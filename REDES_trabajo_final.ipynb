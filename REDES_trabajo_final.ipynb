{
  "nbformat": 4,
  "nbformat_minor": 0,
  "metadata": {
    "colab": {
      "provenance": [],
      "toc_visible": true,
      "authorship_tag": "ABX9TyOrwRTTu805a616nYvekffk",
      "include_colab_link": true
    },
    "kernelspec": {
      "name": "python3",
      "display_name": "Python 3"
    },
    "language_info": {
      "name": "python"
    }
  },
  "cells": [
    {
      "cell_type": "markdown",
      "metadata": {
        "id": "view-in-github",
        "colab_type": "text"
      },
      "source": [
        "<a href=\"https://colab.research.google.com/github/majodomenech/neuralnetworks/blob/main/REDES_trabajo_final.ipynb\" target=\"_parent\"><img src=\"https://colab.research.google.com/assets/colab-badge.svg\" alt=\"Open In Colab\"/></a>"
      ]
    },
    {
      "cell_type": "markdown",
      "source": [
        "# Red neuronal autoencoder convolucional de varias capas\n"
      ],
      "metadata": {
        "id": "BmLqszoKeLlO"
      }
    },
    {
      "cell_type": "code",
      "execution_count": null,
      "metadata": {
        "id": "sIgXFjn5QvpH"
      },
      "outputs": [],
      "source": [
        "import numpy as np\n",
        "import scipy as sp\n",
        "import scipy.linalg as linalg\n",
        "import matplotlib.pyplot as plt"
      ]
    },
    {
      "cell_type": "code",
      "source": [
        "import torch\n",
        "\n",
        "from torchvision import datasets\n",
        "from torchvision.transforms import ToTensor, Lambda, Compose\n",
        "\n",
        "from torch.utils.data import Dataset, DataLoader, Subset, random_split"
      ],
      "metadata": {
        "id": "LGMFbK5r7VW0"
      },
      "execution_count": null,
      "outputs": []
    },
    {
      "cell_type": "code",
      "source": [
        "import torch\n",
        "import torch.optim as optim\n",
        "\n",
        "from torch import nn\n",
        "from torch.nn import functional as F\n",
        "\n",
        "from torch.utils.data import Dataset, DataLoader, Subset, random_split\n",
        "from torchvision import datasets\n",
        "from torchvision import transforms\n",
        "\n",
        "from torchvision.io import read_image\n",
        "from torchvision.transforms import ToTensor, Lambda, Compose"
      ],
      "metadata": {
        "id": "GrIXvVeB7VZS"
      },
      "execution_count": null,
      "outputs": []
    },
    {
      "cell_type": "code",
      "source": [
        "torch.__version__"
      ],
      "metadata": {
        "colab": {
          "base_uri": "https://localhost:8080/",
          "height": 36
        },
        "id": "OS29pdAF7Vb8",
        "outputId": "0e3973b8-2f6b-4807-971c-c764f0140bdc"
      },
      "execution_count": null,
      "outputs": [
        {
          "output_type": "execute_result",
          "data": {
            "text/plain": [
              "'2.1.0+cu121'"
            ],
            "application/vnd.google.colaboratory.intrinsic+json": {
              "type": "string"
            }
          },
          "metadata": {},
          "execution_count": 4
        }
      ]
    },
    {
      "cell_type": "code",
      "source": [
        "# Get cpu, gpu or mps device for training.\n",
        "device = (\n",
        "    \"cuda\"\n",
        "    if torch.cuda.is_available()\n",
        "    else \"mps\"\n",
        "    if torch.backends.mps.is_available()\n",
        "    else \"cpu\"\n",
        ")\n",
        "print(f\"Using {device} device\")"
      ],
      "metadata": {
        "colab": {
          "base_uri": "https://localhost:8080/"
        },
        "id": "l-amOgDz7VeY",
        "outputId": "642d2cf6-b9ee-41b8-ac42-7e095f7e2a26"
      },
      "execution_count": null,
      "outputs": [
        {
          "output_type": "stream",
          "name": "stdout",
          "text": [
            "Using cpu device\n"
          ]
        }
      ]
    },
    {
      "cell_type": "code",
      "source": [
        "import google.colab\n",
        "from google.colab import files\n",
        "from google.colab import drive\n",
        "# Monta tu Google Drive\n",
        "drive.mount('/content/drive', force_remount=True)"
      ],
      "metadata": {
        "colab": {
          "base_uri": "https://localhost:8080/"
        },
        "id": "Dgz65qMB2lfa",
        "outputId": "aa236bea-3215-418a-efa5-e096723026bc"
      },
      "execution_count": null,
      "outputs": [
        {
          "output_type": "stream",
          "name": "stdout",
          "text": [
            "Mounted at /content/drive\n"
          ]
        }
      ]
    },
    {
      "cell_type": "markdown",
      "source": [
        "# implementacion"
      ],
      "metadata": {
        "id": "js-FSTBP7fai"
      }
    },
    {
      "cell_type": "code",
      "source": [
        "#descargamos datasets\n",
        "\n",
        "\n",
        "# Download training data from open datasets.\n",
        "training_data_original = datasets.FashionMNIST(\n",
        "    root=\"data\",\n",
        "    train=True,\n",
        "    download=True,\n",
        "    transform=ToTensor(),\n",
        ")\n",
        "\n",
        "\n",
        "# Download test data from open datasets.\n",
        "test_data_original = datasets.FashionMNIST(\n",
        "    root=\"data\",\n",
        "    train=False,\n",
        "    download=True,\n",
        "    transform=ToTensor(),\n",
        ")"
      ],
      "metadata": {
        "colab": {
          "base_uri": "https://localhost:8080/"
        },
        "id": "CXvjyS8m7VhE",
        "outputId": "04f57bf0-f2c7-46a0-81c9-8b5cb2216432"
      },
      "execution_count": null,
      "outputs": [
        {
          "output_type": "stream",
          "name": "stdout",
          "text": [
            "Downloading http://fashion-mnist.s3-website.eu-central-1.amazonaws.com/train-images-idx3-ubyte.gz\n",
            "Downloading http://fashion-mnist.s3-website.eu-central-1.amazonaws.com/train-images-idx3-ubyte.gz to data/FashionMNIST/raw/train-images-idx3-ubyte.gz\n"
          ]
        },
        {
          "output_type": "stream",
          "name": "stderr",
          "text": [
            "100%|██████████| 26421880/26421880 [00:02<00:00, 12044125.70it/s]\n"
          ]
        },
        {
          "output_type": "stream",
          "name": "stdout",
          "text": [
            "Extracting data/FashionMNIST/raw/train-images-idx3-ubyte.gz to data/FashionMNIST/raw\n",
            "\n",
            "Downloading http://fashion-mnist.s3-website.eu-central-1.amazonaws.com/train-labels-idx1-ubyte.gz\n",
            "Downloading http://fashion-mnist.s3-website.eu-central-1.amazonaws.com/train-labels-idx1-ubyte.gz to data/FashionMNIST/raw/train-labels-idx1-ubyte.gz\n"
          ]
        },
        {
          "output_type": "stream",
          "name": "stderr",
          "text": [
            "100%|██████████| 29515/29515 [00:00<00:00, 198991.31it/s]\n"
          ]
        },
        {
          "output_type": "stream",
          "name": "stdout",
          "text": [
            "Extracting data/FashionMNIST/raw/train-labels-idx1-ubyte.gz to data/FashionMNIST/raw\n",
            "\n",
            "Downloading http://fashion-mnist.s3-website.eu-central-1.amazonaws.com/t10k-images-idx3-ubyte.gz\n",
            "Downloading http://fashion-mnist.s3-website.eu-central-1.amazonaws.com/t10k-images-idx3-ubyte.gz to data/FashionMNIST/raw/t10k-images-idx3-ubyte.gz\n"
          ]
        },
        {
          "output_type": "stream",
          "name": "stderr",
          "text": [
            "100%|██████████| 4422102/4422102 [00:01<00:00, 3719213.60it/s]\n"
          ]
        },
        {
          "output_type": "stream",
          "name": "stdout",
          "text": [
            "Extracting data/FashionMNIST/raw/t10k-images-idx3-ubyte.gz to data/FashionMNIST/raw\n",
            "\n",
            "Downloading http://fashion-mnist.s3-website.eu-central-1.amazonaws.com/t10k-labels-idx1-ubyte.gz\n",
            "Downloading http://fashion-mnist.s3-website.eu-central-1.amazonaws.com/t10k-labels-idx1-ubyte.gz to data/FashionMNIST/raw/t10k-labels-idx1-ubyte.gz\n"
          ]
        },
        {
          "output_type": "stream",
          "name": "stderr",
          "text": [
            "100%|██████████| 5148/5148 [00:00<00:00, 24343040.58it/s]"
          ]
        },
        {
          "output_type": "stream",
          "name": "stdout",
          "text": [
            "Extracting data/FashionMNIST/raw/t10k-labels-idx1-ubyte.gz to data/FashionMNIST/raw\n",
            "\n"
          ]
        },
        {
          "output_type": "stream",
          "name": "stderr",
          "text": [
            "\n"
          ]
        }
      ]
    },
    {
      "cell_type": "code",
      "source": [
        "len(training_data_original), len(test_data_original)"
      ],
      "metadata": {
        "colab": {
          "base_uri": "https://localhost:8080/"
        },
        "id": "MXEcweiD7Vjl",
        "outputId": "e049fb0d-d63c-47eb-9f6b-06dd0b03e86c"
      },
      "execution_count": null,
      "outputs": [
        {
          "output_type": "execute_result",
          "data": {
            "text/plain": [
              "(60000, 10000)"
            ]
          },
          "metadata": {},
          "execution_count": 25
        }
      ]
    },
    {
      "cell_type": "code",
      "source": [
        "# Creamos una subclase de Dataset que nos sirva para muestrear imagenes en el entrenamiento del autoencoder\n",
        "\n",
        "class CustomDataset(Dataset):\n",
        "    def __init__(self,dataset):\n",
        "        self.dataset=dataset\n",
        "    # Redefinimos el método .__len__()\n",
        "    def __len__(self):\n",
        "        return len(self.dataset)\n",
        "    # Redefinimos el método .__getitem__()\n",
        "    def __getitem__(self,i):\n",
        "        image,label=self.dataset[i]\n",
        "        input  = image\n",
        "        output = image #torch.flatten(image) # Reescribimos el label original con una version achatada de la imagen.\n",
        "        return input,output"
      ],
      "metadata": {
        "id": "4q-3axUd7sN4"
      },
      "execution_count": null,
      "outputs": []
    },
    {
      "cell_type": "code",
      "source": [
        "# Convertimos FashionMNIST Dataset a CustomDataset\n",
        "train_set = CustomDataset(training_data_original)\n",
        "valid_set = CustomDataset(test_data_original)"
      ],
      "metadata": {
        "id": "3sfAIw_T7skn"
      },
      "execution_count": null,
      "outputs": []
    },
    {
      "cell_type": "code",
      "source": [
        "len(train_set), len(valid_set)"
      ],
      "metadata": {
        "colab": {
          "base_uri": "https://localhost:8080/"
        },
        "id": "mtLj0ACJ7sp1",
        "outputId": "d6d128ab-4331-4f65-ebe8-32a4053b622e"
      },
      "execution_count": null,
      "outputs": [
        {
          "output_type": "execute_result",
          "data": {
            "text/plain": [
              "(60000, 10000)"
            ]
          },
          "metadata": {},
          "execution_count": 28
        }
      ]
    },
    {
      "cell_type": "markdown",
      "source": [
        "# *modelo juan"
      ],
      "metadata": {
        "id": "MVezTFZEwcjz"
      }
    },
    {
      "cell_type": "code",
      "source": [
        "#definimos el modelo\n",
        "\n",
        "class Autoencoder_conv(nn.Module):\n",
        "    def __init__(self,n,p=0.2):\n",
        "        super().__init__()\n",
        "\n",
        "        self.encoder = nn.Sequential(\n",
        "            #convolución1\n",
        "            nn.Conv2d(1,16,kernel_size=3,padding=0),   # (1,28,28) -> (16,26,26)\n",
        "            nn.ReLU(),\n",
        "            nn.Dropout(p),\n",
        "            nn.MaxPool2d(2,2),  # (16,26,26) -> (16,13,13)\n",
        "\n",
        "            #convolución2\n",
        "            nn.Conv2d(16,32,kernel_size=3,padding=0),   # (16,13,13) -> (32,11,11)\n",
        "            nn.ReLU(),\n",
        "            nn.Dropout(p),\n",
        "            nn.MaxPool2d(2,2),  # (32,11,11) -> (32,5,5)\n",
        "\n",
        "            #lineal\n",
        "            nn.Flatten(1,3), # (32,5,5) -> (32*5*5)=(800)\n",
        "            nn.Linear(32*5*5,n),  # fully conected (16*13*13) -> (n)\n",
        "            nn.ReLU(),\n",
        "            nn.Dropout(p),\n",
        "            )\n",
        "\n",
        "        self.decoder = nn.Sequential(\n",
        "            #lineal\n",
        "            nn.Linear(n,32*5*5),   # fully conected  (n) -> (32*5*5)\n",
        "            nn.ReLU(),\n",
        "            nn.Dropout(p),\n",
        "            nn.Unflatten(1,(32,5,5)),  # (32*5*5) -> (32,5,5)\n",
        "\n",
        "            #convolucion transpuesta2\n",
        "            nn.ConvTranspose2d(32,16,kernel_size=4,stride=2,output_padding=1),  # (32,5,5) -> (16,13,13)\n",
        "            nn.ReLU(),\n",
        "            nn.Dropout(p),\n",
        "\n",
        "            #convolución transpuesta1\n",
        "            nn.ConvTranspose2d(16,1,kernel_size=3,stride=2,output_padding=1),  # (16,13,13) -> (1,28,28)\n",
        "            #nn.ReLU(),\n",
        "            nn.Sigmoid(),\n",
        "            nn.Dropout(p),\n",
        "            )\n",
        "\n",
        "    def forward(self, x):\n",
        "        x = self.encoder(x)\n",
        "        logits = self.decoder(x)\n",
        "        return logits"
      ],
      "metadata": {
        "id": "dKhUYBk07sr7"
      },
      "execution_count": null,
      "outputs": []
    },
    {
      "cell_type": "markdown",
      "source": [
        "# *modelo mio"
      ],
      "metadata": {
        "id": "jX_JRyy_wfkD"
      }
    },
    {
      "cell_type": "code",
      "source": [
        "\n",
        "class AutoencoderConv(nn.Module):\n",
        "    def __init__(self,n,p=0.2):\n",
        "        super().__init__()\n",
        "\n",
        "        #ENCODER\n",
        "        #capa1\n",
        "        self.conv1 = nn.Sequential(\n",
        "            nn.Conv2d(1,16,kernel_size=3,padding=0),   # (1,28,28) -> (16,26,26)\n",
        "            nn.ReLU(),\n",
        "            nn.Dropout(p),\n",
        "            nn.MaxPool2d(2,2),  # (16,26,26) -> (16,13,13)\n",
        "            )\n",
        "        #capa2\n",
        "        self.conv2 = nn.Sequential(\n",
        "            nn.Conv2d(16,32,kernel_size=3,padding=0),   # (16,13,13) -> (32,11,11)\n",
        "            nn.ReLU(),\n",
        "            nn.Dropout(p),\n",
        "            nn.MaxPool2d(2,2),  # (32,11,11) -> (32,5,5)\n",
        "        )\n",
        "        #capa3\n",
        "        self.fc1 = nn.Sequential(\n",
        "            #nn.Flatten(0,2), # (32,5,5) -> (32*5*5)=(800)\n",
        "            nn.Flatten(1,3), # (32,5,5) -> (32*5*5)=(800)\n",
        "            nn.Linear(32*5*5,n),  # fully conected (16*13*13) -> (n)\n",
        "            nn.ReLU(),\n",
        "            nn.Dropout(p),\n",
        "            )\n",
        "\n",
        "        #DECODER\n",
        "        #capa4\n",
        "        self.fc2 = nn.Sequential(\n",
        "            nn.Linear(n,32*5*5),   # fully conected  (n) -> (32*5*5)\n",
        "            nn.ReLU(),\n",
        "            nn.Dropout(p),\n",
        "            #nn.Unflatten(0,(32,5,5)),  # (32*5*5) -> (32,5,5)\n",
        "            nn.Unflatten(1,(32,5,5)),  # (32*5*5) -> (32,5,5)\n",
        "            )\n",
        "        #capa5\n",
        "        self.convT2 = nn.Sequential(\n",
        "            nn.ConvTranspose2d(32,16,kernel_size=4,stride=2,output_padding=1),  # (32,5,5) -> (16,13,13)\n",
        "            nn.ReLU(),\n",
        "            nn.Dropout(p)\n",
        "            )\n",
        "\n",
        "        #capa6\n",
        "        #original_size = [16, 13, 13]  # Tamaño original del tensor\n",
        "        #target_size = [1, 28, 28]  # Tamaño objetivo del tensor\n",
        "        #factor_h = target_size[1] // original_size[1] # Calcula el factor de aumento en cada dimensión\n",
        "        #factor_w = target_size[2] // original_size[2]\n",
        "\n",
        "        #self.convT1 = nn.Sequential(\n",
        "        #    nn.ConvTranspose2d(in_channels=original_size[0],  # Número de canales en la entrada\n",
        "        #                      out_channels=target_size[0],   # Número de canales en la salida\n",
        "        #                      kernel_size=(factor_h, factor_w),  # Tamaño del kernel\n",
        "        #                      stride=(factor_h, factor_w),       # Stride\n",
        "        #                      padding=0,                         # Padding\n",
        "        #                      output_padding=0,                  # Padding en la salida\n",
        "        #                      ), # (16,13,13) -> (1,28,28)\n",
        "        #    #nn.ReLU(),\n",
        "        #    nn.Sigmoid(),\n",
        "        #    nn.Dropout(p),\n",
        "        #    )\n",
        "\n",
        "\n",
        "        #capa6 (anterior)\n",
        "        self.convT1 = nn.Sequential(\n",
        "            nn.ConvTranspose2d(16,1,kernel_size=4,stride=2,output_padding=0),  # (16,13,13) -> (1,28,28)\n",
        "            #nn.ReLU(),\n",
        "            nn.Sigmoid(),\n",
        "            nn.Dropout(p),\n",
        "            )\n",
        "\n",
        "\n",
        "    def forward(self, x):\n",
        "        #print(f'antes de entrar: {x.shape}')\n",
        "        x = self.conv1(x)\n",
        "        #print(f'despues de la conv1: {x.shape}')\n",
        "        x = self.conv2(x)\n",
        "        #print(f'despues de la conv2: {x.shape}')\n",
        "        x = self.fc1(x)\n",
        "        #print(f'despues de la lineal1: {x.shape}')\n",
        "        x = self.fc2(x)\n",
        "        #print(f'despues de la lineal2: {x.shape}')\n",
        "        x = self.convT2(x)\n",
        "        #print(f'despues de la convTransp1: {x.shape}')\n",
        "\n",
        "        #print('calculo factor_h y factor_w')\n",
        "        #original_size = [16, 13, 13]  # Tamaño original del tensor\n",
        "        #target_size = [1, 28, 28]  # Tamaño objetivo del tensor\n",
        "        #factor_h = target_size[1] // original_size[1] # Calcula el factor de aumento en cada dimensión\n",
        "        #factor_w = target_size[2] // original_size[2]\n",
        "\n",
        "        #print(factor_h,factor_w)\n",
        "\n",
        "        logits = self.convT1(x)\n",
        "        #print(f'despues de la convTransp2: {logits.shape}')\n",
        "        return logits"
      ],
      "metadata": {
        "id": "KS0kXrTl5mU_"
      },
      "execution_count": null,
      "outputs": []
    },
    {
      "cell_type": "code",
      "source": [
        "\n",
        "class AutoencoderConv_SIN_LINEAL(nn.Module):\n",
        "    def __init__(self,p=0.2):\n",
        "        super().__init__()\n",
        "\n",
        "        #ENCODER\n",
        "        #capa1\n",
        "        self.conv1 = nn.Sequential(\n",
        "            nn.Conv2d(1,16,kernel_size=3,padding=0),   # (1,28,28) -> (16,26,26)\n",
        "            nn.ReLU(),\n",
        "            nn.Dropout(p),\n",
        "            nn.MaxPool2d(2,2),  # (16,26,26) -> (16,13,13)\n",
        "            )\n",
        "        #capa2\n",
        "        self.conv2 = nn.Sequential(\n",
        "            nn.Conv2d(16,32,kernel_size=3,padding=0),   # (16,13,13) -> (32,11,11)\n",
        "            nn.ReLU(),\n",
        "            nn.Dropout(p),\n",
        "            nn.MaxPool2d(2,2),  # (32,11,11) -> (32,5,5)\n",
        "        )\n",
        "        #capa3\n",
        "        #self.fc1 = nn.Sequential(\n",
        "        #    #nn.Flatten(0,2), # (32,5,5) -> (32*5*5)=(800)\n",
        "        #    nn.Flatten(1,3), # (32,5,5) -> (32*5*5)=(800)\n",
        "        #    nn.Linear(32*5*5,n),  # fully conected (16*13*13) -> (n)\n",
        "        #    nn.ReLU(),\n",
        "        #    nn.Dropout(p),\n",
        "        #    )\n",
        "\n",
        "        #DECODER\n",
        "        #capa4\n",
        "        #self.fc2 = nn.Sequential(\n",
        "        #    nn.Linear(n,32*5*5),   # fully conected  (n) -> (32*5*5)\n",
        "        #    nn.ReLU(),\n",
        "        #    nn.Dropout(p),\n",
        "        #    #nn.Unflatten(0,(32,5,5)),  # (32*5*5) -> (32,5,5)\n",
        "        #    nn.Unflatten(1,(32,5,5)),  # (32*5*5) -> (32,5,5)\n",
        "        #    )\n",
        "        #capa5\n",
        "        self.convT2 = nn.Sequential(\n",
        "            nn.ConvTranspose2d(32,16,kernel_size=4,stride=2,output_padding=1),  # (32,5,5) -> (16,13,13)\n",
        "            nn.ReLU(),\n",
        "            nn.Dropout(p)\n",
        "            )\n",
        "\n",
        "        #capa6 (anterior)\n",
        "        self.convT1 = nn.Sequential(\n",
        "            nn.ConvTranspose2d(16,1,kernel_size=4,stride=2,output_padding=0),  # (16,13,13) -> (1,28,28)\n",
        "            #nn.ReLU(),\n",
        "            nn.Sigmoid(),\n",
        "            nn.Dropout(p),\n",
        "            )\n",
        "\n",
        "\n",
        "    def forward(self, x):\n",
        "        #print(f'antes de entrar: {x.shape}')\n",
        "        x = self.conv1(x)\n",
        "        #print(f'despues de la conv1: {x.shape}')\n",
        "        x = self.conv2(x)\n",
        "        #print(f'despues de la conv2: {x.shape}')\n",
        "        x = self.convT2(x)\n",
        "        #print(f'despues de la convTransp1: {x.shape}')\n",
        "\n",
        "        #print('calculo factor_h y factor_w')\n",
        "        #original_size = [16, 13, 13]  # Tamaño original del tensor\n",
        "        #target_size = [1, 28, 28]  # Tamaño objetivo del tensor\n",
        "        #factor_h = target_size[1] // original_size[1] # Calcula el factor de aumento en cada dimensión\n",
        "        #factor_w = target_size[2] // original_size[2]\n",
        "\n",
        "        #print(factor_h,factor_w)\n",
        "\n",
        "        logits = self.convT1(x)\n",
        "        #print(f'despues de la convTransp2: {logits.shape}')\n",
        "        return logits"
      ],
      "metadata": {
        "id": "HUZgY2Qs5G61"
      },
      "execution_count": null,
      "outputs": []
    },
    {
      "cell_type": "code",
      "source": [
        "#list_parametros = list(model.parameters())\n",
        "\n",
        "#list_parametros"
      ],
      "metadata": {
        "id": "LqZMQwAksxlk"
      },
      "execution_count": null,
      "outputs": []
    },
    {
      "cell_type": "code",
      "source": [
        "#named_parameters_generator = model.named_parameters()\n",
        "\n",
        "# Itera sobre los nombres, dimensiones y los parámetros\n",
        "#for name, param in named_parameters_generator:\n",
        "#    print(f\"Nombre del parámetro: {name}\")\n",
        "#    print(f\"Dimensión del parámetro: {param.shape}\")\n",
        "#    #print(f\"Valor del parámetro: {param}\")\n",
        "#    print(\"-\" * 30)"
      ],
      "metadata": {
        "id": "oH-Cy9qctxRI"
      },
      "execution_count": null,
      "outputs": []
    },
    {
      "cell_type": "markdown",
      "source": [
        "# grafico imagenes con modelo sin entrenar"
      ],
      "metadata": {
        "id": "wVOE2N-jqTFJ"
      }
    },
    {
      "cell_type": "code",
      "source": [
        "def batch(x):\n",
        "  return x.unsqueeze(0)   # (1,28,28) -> (28,28)\n",
        "\n",
        "def unbatch(x):\n",
        "  return x.squeeze().detach().cpu().numpy()  # (28,28) -> (1,28,28)"
      ],
      "metadata": {
        "id": "SPTaYTeiw9NX"
      },
      "execution_count": null,
      "outputs": []
    },
    {
      "cell_type": "code",
      "source": [
        "n=64\n",
        "\n",
        "model = Autoencoder_conv(n)    #modelo juan\n",
        "#model = AutoencoderConv(n)      #modelo mio\n",
        "#model = autoEncoder()     #modelo andrés\n",
        "\n",
        "model = model.to('cpu')\n",
        "\n",
        "#print(model,device)"
      ],
      "metadata": {
        "id": "KvAxKLVBrK4u"
      },
      "execution_count": null,
      "outputs": []
    },
    {
      "cell_type": "code",
      "source": [
        "figure = plt.figure()\n",
        "rows, cols = 3,2\n",
        "i = 0 #subplot index\n",
        "\n",
        "model.eval()\n",
        "\n",
        "for row in range(1,rows+1):\n",
        "  j = torch.randint(len(train_set),size=(1,)).item()\n",
        "  #graficamos imagen sin entrenar\n",
        "  i += 1\n",
        "  image,_ = train_set[j]\n",
        "  figure.add_subplot(rows,cols,i)\n",
        "  if row == 1:\n",
        "    plt.title('original')\n",
        "  plt.axis('off')\n",
        "  plt.imshow(unbatch(image),cmap='Greys_r')\n",
        "  #ploteamos imagen predicha\n",
        "  i += 1\n",
        "  figure.add_subplot(rows,cols,i)\n",
        "  if row == 1:\n",
        "    plt.title('predicha')\n",
        "  plt.axis('off')\n",
        "  image_pred = unbatch(model(batch(image)))\n",
        "  plt.imshow(image_pred,cmap='Greys_r')\n",
        "plt.show()\n"
      ],
      "metadata": {
        "colab": {
          "base_uri": "https://localhost:8080/",
          "height": 428
        },
        "id": "3dsUxa1TxV_Z",
        "outputId": "be72f192-f8cd-447b-9172-02a0b080087f"
      },
      "execution_count": null,
      "outputs": [
        {
          "output_type": "display_data",
          "data": {
            "text/plain": [
              "<Figure size 640x480 with 6 Axes>"
            ],
            "image/png": "[encoded data removed]"
          },
          "metadata": {}
        }
      ]
    },
    {
      "cell_type": "code",
      "source": [
        "n=64\n",
        "\n",
        "#model = Autoencoder_conv(n)    #modelo juan\n",
        "model = AutoencoderConv(n)      #modelo mio\n",
        "#model = autoEncoder()     #modelo andrés\n",
        "\n",
        "\n",
        "model = model.to('cpu')\n",
        "\n",
        "#print(model,device)"
      ],
      "metadata": {
        "id": "rnCJZaWrzr-U"
      },
      "execution_count": null,
      "outputs": []
    },
    {
      "cell_type": "code",
      "source": [
        "figure = plt.figure()\n",
        "rows, cols = 3,2\n",
        "i = 0 #subplot index\n",
        "\n",
        "model.eval()\n",
        "\n",
        "for row in range(1,rows+1):\n",
        "  j = torch.randint(len(train_set),size=(1,)).item()\n",
        "  #graficamos imagen sin entrenar\n",
        "  i += 1\n",
        "  image,_ = train_set[j]\n",
        "  figure.add_subplot(rows,cols,i)\n",
        "  if row == 1:\n",
        "    plt.title('original')\n",
        "  plt.axis('off')\n",
        "  plt.imshow(unbatch(image),cmap='Greys_r')\n",
        "  #ploteamos imagen predicha\n",
        "  i += 1\n",
        "  figure.add_subplot(rows,cols,i)\n",
        "  if row == 1:\n",
        "    plt.title('predicha')\n",
        "  plt.axis('off')\n",
        "  image_pred = unbatch(model(batch(image)))\n",
        "  plt.imshow(image_pred,cmap='Greys_r')\n",
        "plt.show()\n"
      ],
      "metadata": {
        "colab": {
          "base_uri": "https://localhost:8080/",
          "height": 428
        },
        "id": "22YXRltezvz_",
        "outputId": "5cf499c1-c29f-4016-a6cd-c2d3646ee0b2"
      },
      "execution_count": null,
      "outputs": [
        {
          "output_type": "display_data",
          "data": {
            "text/plain": [
              "<Figure size 640x480 with 6 Axes>"
            ],
            "image/png": "[encoded data removed]"
          },
          "metadata": {}
        }
      ]
    },
    {
      "cell_type": "code",
      "source": [
        "n=64\n",
        "\n",
        "#model = Autoencoder_conv(n)    #modelo juan\n",
        "#model = AutoencoderConv(n)      #modelo mio\n",
        "model = autoEncoder()     #modelo andrés\n",
        "\n",
        "\n",
        "model = model.to('cpu')\n",
        "\n",
        "#print(model,device)"
      ],
      "metadata": {
        "colab": {
          "base_uri": "https://localhost:8080/",
          "height": 256
        },
        "id": "7PshDplJz4RV",
        "outputId": "e5b7f8cb-ef37-4a99-9a58-056633ab2a9a"
      },
      "execution_count": null,
      "outputs": [
        {
          "output_type": "error",
          "ename": "NameError",
          "evalue": "ignored",
          "traceback": [
            "\u001b[0;31m---------------------------------------------------------------------------\u001b[0m",
            "\u001b[0;31mNameError\u001b[0m                                 Traceback (most recent call last)",
            "\u001b[0;32m<ipython-input-24-70ac59b44a39>\u001b[0m in \u001b[0;36m<cell line: 5>\u001b[0;34m()\u001b[0m\n\u001b[1;32m      3\u001b[0m \u001b[0;31m#model = Autoencoder_conv(n)    #modelo juan\u001b[0m\u001b[0;34m\u001b[0m\u001b[0;34m\u001b[0m\u001b[0m\n\u001b[1;32m      4\u001b[0m \u001b[0;31m#model = AutoencoderConv(n)      #modelo mio\u001b[0m\u001b[0;34m\u001b[0m\u001b[0;34m\u001b[0m\u001b[0m\n\u001b[0;32m----> 5\u001b[0;31m \u001b[0mmodel\u001b[0m \u001b[0;34m=\u001b[0m \u001b[0mautoEncoder\u001b[0m\u001b[0;34m(\u001b[0m\u001b[0;34m)\u001b[0m     \u001b[0;31m#modelo andrés\u001b[0m\u001b[0;34m\u001b[0m\u001b[0;34m\u001b[0m\u001b[0m\n\u001b[0m\u001b[1;32m      6\u001b[0m \u001b[0;34m\u001b[0m\u001b[0m\n\u001b[1;32m      7\u001b[0m \u001b[0;34m\u001b[0m\u001b[0m\n",
            "\u001b[0;31mNameError\u001b[0m: name 'autoEncoder' is not defined"
          ]
        }
      ]
    },
    {
      "cell_type": "code",
      "source": [
        "figure = plt.figure()\n",
        "rows, cols = 3,2\n",
        "i = 0 #subplot index\n",
        "\n",
        "model.eval()\n",
        "\n",
        "for row in range(1,rows+1):\n",
        "  j = torch.randint(len(train_set),size=(1,)).item()\n",
        "  #graficamos imagen sin entrenar\n",
        "  i += 1\n",
        "  image,_ = train_set[j]\n",
        "  figure.add_subplot(rows,cols,i)\n",
        "  if row == 1:\n",
        "    plt.title('original')\n",
        "  plt.axis('off')\n",
        "  plt.imshow(unbatch(image),cmap='Greys_r')\n",
        "  #ploteamos imagen predicha\n",
        "  i += 1\n",
        "  figure.add_subplot(rows,cols,i)\n",
        "  if row == 1:\n",
        "    plt.title('predicha')\n",
        "  plt.axis('off')\n",
        "  image_pred = unbatch(model(batch(image)))\n",
        "  plt.imshow(image_pred,cmap='Greys_r')\n",
        "plt.show()"
      ],
      "metadata": {
        "colab": {
          "base_uri": "https://localhost:8080/",
          "height": 428
        },
        "id": "3jja7_H5z6DT",
        "outputId": "05c540ad-9ee2-4bbe-d54f-2500374b9616"
      },
      "execution_count": null,
      "outputs": [
        {
          "output_type": "display_data",
          "data": {
            "text/plain": [
              "<Figure size 640x480 with 6 Axes>"
            ],
            "image/png": "[encoded data removed]"
          },
          "metadata": {}
        }
      ]
    },
    {
      "cell_type": "markdown",
      "source": [
        "#def loops de entrenamiento y validac"
      ],
      "metadata": {
        "id": "dSFQu7Di0MZd"
      }
    },
    {
      "cell_type": "code",
      "source": [
        "# Definimos la función de entrenamiento\n",
        "def train_loop(dataloader,model,loss_fn,optimizer,verbose_each=10):\n",
        "    # Activamos la maquinaria de entrenamiento del modelo\n",
        "    model.train()\n",
        "    # Definimos ciertas constantes\n",
        "    size = len(dataloader.dataset)       #da 50000 para train_set y 10000 para valid_set\n",
        "    num_minibatches = len(dataloader)    #son 50 si hay 1000 ejemplos en cada minibatch para train_set, son 10 para valid_set\n",
        "\n",
        "    sum_loss,sum_correct = 0,0\n",
        "    loss_value_de_cada_ejemplo = []\n",
        "\n",
        "    # Iteramos sobre lotes (minibatchs)\n",
        "    for minibatch, (X, y) in enumerate(dataloader):\n",
        "        # Copiamos las entradas y las salidas al dispositivo de trabajo\n",
        "        X = X.to(device)\n",
        "        y = y.to(device)\n",
        "        # Calculamos la predicción del modelo y la correspondiente pérdida (error)\n",
        "        pred = model(X)\n",
        "        loss = loss_fn(pred,y)\n",
        "        # Backpropagamos usando el optimizador provisto\n",
        "        optimizer.zero_grad()\n",
        "        loss.backward()\n",
        "        optimizer.step()\n",
        "        # Imprimimos el progreso...\n",
        "        loss_value = loss.item()\n",
        "        sum_loss += loss_value          #aca se calcula la suma de los errores de todo el minibatch, para luego dividir por la cantidad de ej en el minibatch y tener la perdida promedio en ese minibatch\n",
        "\n",
        "        loss_value_de_cada_ejemplo.append(loss.item())  #aca guardo el loss de cada MINIBATCH para ver si despues ploteo una nube de ruido\n",
        "\n",
        "        # También calculamos el número de predicciones correctas, y lo acumulamos en un total.\n",
        "        # sum_correct += (pred == y).type(torch.float).sum().item()\n",
        "\n",
        "        #if minibatch % verbose_each == 0:     #va a dar true solamente para el minibatch numero 0 (el primero de la epoca)\n",
        "            #current = (minibatch+1)*len(X)\n",
        "            #print(f\"@train_loop minibatch={minibatch:>5d} loss={loss_value:>7f}  muestras-procesadas=[{current:>5d}/{size:>5d}]\")\n",
        "\n",
        "    avg_loss = sum_loss/num_minibatches\n",
        "    #precision = sum_correct/size\n",
        "\n",
        "    return avg_loss,loss_value_de_cada_ejemplo#,precision"
      ],
      "metadata": {
        "id": "30qE83QM80WF"
      },
      "execution_count": null,
      "outputs": []
    },
    {
      "cell_type": "code",
      "source": [
        "# De manera similar, definimos la función de validación\n",
        "def valid_loop(dataloader,model,loss_fn):\n",
        "    # Desactivamos la maquinaria de entrenamiento del modelo\n",
        "    model.eval()\n",
        "    # Definimos ciertas constantes\n",
        "    size = len(dataloader.dataset)\n",
        "    num_minibatches = len(dataloader)\n",
        "\n",
        "    sum_loss,sum_correct = 0,0\n",
        "    loss_value_de_cada_ejemplo=[]\n",
        "\n",
        "    # Para testear, desactivamos el cálculo de gradientes.\n",
        "    with torch.no_grad():\n",
        "        # Iteramos sobre lotes (minibatches)\n",
        "        for X,y in dataloader:\n",
        "            # Copiamos las entradas y las salidas al dispositivo de trabajo\n",
        "            X = X.to(device)\n",
        "            y = y.to(device)\n",
        "            # Calculamos las predicciones del modelo...\n",
        "            pred = model(X)\n",
        "            # y las correspondientes pérdidas (errores), los cuales vamos acumulando en un valor total.\n",
        "            sum_loss += loss_fn(pred,y).item()\n",
        "\n",
        "            loss_value_de_cada_ejemplo.append(loss_fn(pred,y).item())\n",
        "\n",
        "            # También calculamos el número de predicciones correctas, y lo acumulamos en un total.\n",
        "            #sum_correct += (pred == y).type(torch.float).sum().item()\n",
        "\n",
        "    # Calculamos la pérdida total y la fracción de clasificaciones correctas, y las imprimimos.\n",
        "    avg_loss = sum_loss/num_minibatches\n",
        "    #precision = sum_correct/size\n",
        "    #print(f\"@valid_loop precision={(100*precision):>0.1f}% avg_loss={avg_loss:>8f}\")\n",
        "    print(f\"avg_loss={avg_loss:>8f}\")\n",
        "    return avg_loss,loss_value_de_cada_ejemplo#,precision"
      ],
      "metadata": {
        "id": "8yexQDtmqqfI"
      },
      "execution_count": null,
      "outputs": []
    },
    {
      "cell_type": "code",
      "source": [
        "# Creamos los DataLoaders\n",
        "minibatch_size = 100    #tamaño minibatchs\n",
        "train_loader = DataLoader(train_set, batch_size=minibatch_size,shuffle=True)\n",
        "valid_loader = DataLoader(valid_set, batch_size=minibatch_size,shuffle=True)"
      ],
      "metadata": {
        "id": "zDPDVn2i8qaW"
      },
      "execution_count": null,
      "outputs": []
    },
    {
      "cell_type": "code",
      "source": [
        "len(train_loader), len(valid_loader) #el primero tiene 50 minibatchs de 1000 ejemplos, el segundo 10 minibatchs de 1000 ejemplos"
      ],
      "metadata": {
        "colab": {
          "base_uri": "https://localhost:8080/"
        },
        "id": "9GjC3H2i8qdo",
        "outputId": "53c46ec3-451e-42fe-84fb-45cb99b9ba91"
      },
      "execution_count": null,
      "outputs": [
        {
          "output_type": "execute_result",
          "data": {
            "text/plain": [
              "(600, 100)"
            ]
          },
          "metadata": {},
          "execution_count": 36
        }
      ]
    },
    {
      "cell_type": "code",
      "source": [
        "len(train_loader.dataset)"
      ],
      "metadata": {
        "colab": {
          "base_uri": "https://localhost:8080/"
        },
        "id": "7BXqc0r08qgs",
        "outputId": "8f9ff741-19ef-4ef0-f440-cba6d1848113"
      },
      "execution_count": null,
      "outputs": [
        {
          "output_type": "execute_result",
          "data": {
            "text/plain": [
              "60000"
            ]
          },
          "metadata": {},
          "execution_count": 37
        }
      ]
    },
    {
      "cell_type": "code",
      "source": [
        "# Creamos una instancia de una función de pérdida, (Mean Squared Error, MSE) en PyTorch, puedes utilizar la clase nn.MSELoss.\n",
        "\n",
        "loss_fn = nn.MSELoss()"
      ],
      "metadata": {
        "id": "2IyUIjCs8yhv"
      },
      "execution_count": null,
      "outputs": []
    },
    {
      "cell_type": "markdown",
      "source": [
        "# ---Entrenando autoencoder juan n=64 p=0.2 ADAM MSE"
      ],
      "metadata": {
        "id": "P6pD2WraqW5J"
      }
    },
    {
      "cell_type": "code",
      "source": [
        "n=64\n",
        "\n",
        "model = Autoencoder_conv(n)\n",
        "#model = AutoencoderConv(n)\n",
        "#model = autoEncoder(n)\n",
        "\n",
        "model = model.to(device)\n",
        "\n",
        "#print(model,device)"
      ],
      "metadata": {
        "id": "7Gy8pnNy80bR"
      },
      "execution_count": null,
      "outputs": []
    },
    {
      "cell_type": "code",
      "source": [
        "# Creamos un optimizador, un Stochastic Gradient Descent, en este caso.\n",
        "learning_rate = 1e-3 # necesario para definir\n",
        "#optimizer = torch.optim.SGD(model.parameters(),lr=learning_rate)\n",
        "optimizer = torch.optim.Adam(model.parameters(),lr=learning_rate,eps=1e-08,weight_decay=0,amsgrad=False)"
      ],
      "metadata": {
        "id": "f4js6Bx580hQ"
      },
      "execution_count": null,
      "outputs": []
    },
    {
      "cell_type": "code",
      "source": [
        "# Finalmente, entrenamos iterando sobre épocas.\n",
        "# Además, testeamos el modelo en cada una de ellas.\n",
        "\n",
        "num_epochs = 50\n",
        "\n",
        "list_train_avg_loss_incorrecta_64 = []\n",
        "list_train_avg_loss_64 = []\n",
        "list_valid_avg_loss_64 = []\n",
        "#list_train_precision_incorrecta = []\n",
        "#list_train_precision = []\n",
        "#list_valid_precision = []\n",
        "\n",
        "list_train_loss_incorrecta_cada_ej_64 = []\n",
        "list_train_loss_cada_ej_64 = []\n",
        "list_valid_loss_cada_ej_64 = []\n",
        "\n",
        "for epoch in range(num_epochs):\n",
        "    print(f\"Epoch {epoch+1}\\n-------------------------------\")\n",
        "    train_avg_loss_incorrecta_64,train_loss_incorrecta_cada_ej_64 = train_loop(train_loader,model,loss_fn,optimizer)\n",
        "    train_avg_loss_64,train_loss_cada_ej_64 = valid_loop(train_loader,model,loss_fn)\n",
        "    valid_avg_loss_64,valid_loss_cada_ej_64 = valid_loop(valid_loader,model,loss_fn)\n",
        "\n",
        "    list_train_avg_loss_incorrecta_64.append(train_avg_loss_incorrecta_64)\n",
        "    list_train_avg_loss_64.append(train_avg_loss_64)\n",
        "    list_valid_avg_loss_64.append(valid_avg_loss_64)\n",
        "\n",
        "    list_train_loss_incorrecta_cada_ej_64.append(train_loss_incorrecta_cada_ej_64)\n",
        "    list_train_loss_cada_ej_64.append(train_loss_cada_ej_64)\n",
        "    list_valid_loss_cada_ej_64.append(valid_loss_cada_ej_64)\n",
        "\n",
        "print(\"Done!\")"
      ],
      "metadata": {
        "colab": {
          "base_uri": "https://localhost:8080/"
        },
        "id": "RnSRCxhrLsjR",
        "outputId": "29bba46a-a97c-4270-e1dd-19c09e738790"
      },
      "execution_count": null,
      "outputs": [
        {
          "output_type": "stream",
          "name": "stdout",
          "text": [
            "Epoch 1\n",
            "-------------------------------\n",
            "avg_loss=0.059931\n",
            "avg_loss=0.059926\n",
            "Epoch 2\n",
            "-------------------------------\n",
            "avg_loss=0.054767\n",
            "avg_loss=0.054800\n",
            "Epoch 3\n",
            "-------------------------------\n",
            "avg_loss=0.055356\n",
            "avg_loss=0.055375\n",
            "Epoch 4\n",
            "-------------------------------\n",
            "avg_loss=0.054863\n",
            "avg_loss=0.054882\n",
            "Epoch 5\n",
            "-------------------------------\n",
            "avg_loss=0.054593\n",
            "avg_loss=0.054608\n",
            "Epoch 6\n",
            "-------------------------------\n",
            "avg_loss=0.052700\n",
            "avg_loss=0.052715\n",
            "Epoch 7\n",
            "-------------------------------\n",
            "avg_loss=0.052212\n",
            "avg_loss=0.052241\n",
            "Epoch 8\n",
            "-------------------------------\n",
            "avg_loss=0.051381\n",
            "avg_loss=0.051416\n",
            "Epoch 9\n",
            "-------------------------------\n",
            "avg_loss=0.051825\n",
            "avg_loss=0.051871\n",
            "Epoch 10\n",
            "-------------------------------\n",
            "avg_loss=0.051516\n",
            "avg_loss=0.051561\n",
            "Epoch 11\n",
            "-------------------------------\n",
            "avg_loss=0.052522\n",
            "avg_loss=0.052568\n",
            "Epoch 12\n",
            "-------------------------------\n",
            "avg_loss=0.051059\n",
            "avg_loss=0.051102\n",
            "Epoch 13\n",
            "-------------------------------\n",
            "avg_loss=0.052835\n",
            "avg_loss=0.052890\n",
            "Epoch 14\n",
            "-------------------------------\n",
            "avg_loss=0.052347\n",
            "avg_loss=0.052398\n",
            "Epoch 15\n",
            "-------------------------------\n",
            "avg_loss=0.053635\n",
            "avg_loss=0.053669\n",
            "Epoch 16\n",
            "-------------------------------\n",
            "avg_loss=0.052191\n",
            "avg_loss=0.052220\n",
            "Epoch 17\n",
            "-------------------------------\n",
            "avg_loss=0.053259\n",
            "avg_loss=0.053310\n",
            "Epoch 18\n",
            "-------------------------------\n",
            "avg_loss=0.053317\n",
            "avg_loss=0.053373\n",
            "Epoch 19\n",
            "-------------------------------\n",
            "avg_loss=0.052869\n",
            "avg_loss=0.052919\n",
            "Epoch 20\n",
            "-------------------------------\n",
            "avg_loss=0.052921\n",
            "avg_loss=0.052968\n",
            "Epoch 21\n",
            "-------------------------------\n",
            "avg_loss=0.052131\n",
            "avg_loss=0.052185\n",
            "Epoch 22\n",
            "-------------------------------\n",
            "avg_loss=0.053236\n",
            "avg_loss=0.053297\n",
            "Epoch 23\n",
            "-------------------------------\n",
            "avg_loss=0.053134\n",
            "avg_loss=0.053200\n",
            "Epoch 24\n",
            "-------------------------------\n",
            "avg_loss=0.052897\n",
            "avg_loss=0.052955\n",
            "Epoch 25\n",
            "-------------------------------\n",
            "avg_loss=0.052073\n",
            "avg_loss=0.052130\n",
            "Epoch 26\n",
            "-------------------------------\n",
            "avg_loss=0.052706\n",
            "avg_loss=0.052765\n",
            "Epoch 27\n",
            "-------------------------------\n",
            "avg_loss=0.053307\n",
            "avg_loss=0.053368\n",
            "Epoch 28\n",
            "-------------------------------\n",
            "avg_loss=0.052809\n",
            "avg_loss=0.052886\n",
            "Epoch 29\n",
            "-------------------------------\n",
            "avg_loss=0.052375\n",
            "avg_loss=0.052446\n",
            "Epoch 30\n",
            "-------------------------------\n",
            "avg_loss=0.053620\n",
            "avg_loss=0.053691\n",
            "Epoch 31\n",
            "-------------------------------\n",
            "avg_loss=0.052147\n",
            "avg_loss=0.052228\n",
            "Epoch 32\n",
            "-------------------------------\n",
            "avg_loss=0.053470\n",
            "avg_loss=0.053540\n",
            "Epoch 33\n",
            "-------------------------------\n",
            "avg_loss=0.052127\n",
            "avg_loss=0.052217\n",
            "Epoch 34\n",
            "-------------------------------\n",
            "avg_loss=0.053761\n",
            "avg_loss=0.053830\n",
            "Epoch 35\n",
            "-------------------------------\n",
            "avg_loss=0.052908\n",
            "avg_loss=0.052984\n",
            "Epoch 36\n",
            "-------------------------------\n",
            "avg_loss=0.053441\n",
            "avg_loss=0.053532\n",
            "Epoch 37\n",
            "-------------------------------\n",
            "avg_loss=0.052469\n",
            "avg_loss=0.052544\n",
            "Epoch 38\n",
            "-------------------------------\n",
            "avg_loss=0.053730\n",
            "avg_loss=0.053801\n",
            "Epoch 39\n",
            "-------------------------------\n",
            "avg_loss=0.054477\n",
            "avg_loss=0.054555\n",
            "Epoch 40\n",
            "-------------------------------\n",
            "avg_loss=0.053023\n",
            "avg_loss=0.053099\n",
            "Epoch 41\n",
            "-------------------------------\n",
            "avg_loss=0.053880\n",
            "avg_loss=0.053955\n",
            "Epoch 42\n",
            "-------------------------------\n",
            "avg_loss=0.054228\n",
            "avg_loss=0.054313\n",
            "Epoch 43\n",
            "-------------------------------\n",
            "avg_loss=0.052604\n",
            "avg_loss=0.052667\n",
            "Epoch 44\n",
            "-------------------------------\n",
            "avg_loss=0.054323\n",
            "avg_loss=0.054402\n",
            "Epoch 45\n",
            "-------------------------------\n",
            "avg_loss=0.053250\n",
            "avg_loss=0.053340\n",
            "Epoch 46\n",
            "-------------------------------\n",
            "avg_loss=0.052583\n",
            "avg_loss=0.052676\n",
            "Epoch 47\n",
            "-------------------------------\n",
            "avg_loss=0.053723\n",
            "avg_loss=0.053809\n",
            "Epoch 48\n",
            "-------------------------------\n",
            "avg_loss=0.052697\n",
            "avg_loss=0.052785\n",
            "Epoch 49\n",
            "-------------------------------\n",
            "avg_loss=0.053198\n",
            "avg_loss=0.053292\n",
            "Epoch 50\n",
            "-------------------------------\n",
            "avg_loss=0.054074\n",
            "avg_loss=0.054155\n",
            "Done!\n"
          ]
        }
      ]
    },
    {
      "cell_type": "markdown",
      "source": [
        "## guardo y cargo"
      ],
      "metadata": {
        "id": "VhttI5dR4gPG"
      }
    },
    {
      "cell_type": "code",
      "source": [
        "#aca guardo las listas con los loss para poder graficar\n",
        "\n",
        "np.save('/content/drive/MyDrive/archivos-redes/trabajo-final/list_train_avg_loss_incorrecta_64_ADAM_50epoch.npy', list_train_avg_loss_incorrecta_64)\n",
        "np.save('/content/drive/MyDrive/archivos-redes/trabajo-final/list_train_avg_loss_64_ADAM_50epoch.npy', list_train_avg_loss_64)\n",
        "np.save('/content/drive/MyDrive/archivos-redes/trabajo-final/list_valid_avg_loss_64_ADAM_50epoch.npy', list_valid_avg_loss_64)\n",
        "\n",
        "np.save('/content/drive/MyDrive/archivos-redes/trabajo-final/list_train_loss_incorrecta_cada_ej_64_ADAM_50epoch.npy', list_train_loss_incorrecta_cada_ej_64)\n",
        "np.save('/content/drive/MyDrive/archivos-redes/trabajo-final/list_train_loss_cada_ej_64_ADAM_50epoch.npy', list_train_loss_cada_ej_64)\n",
        "np.save('/content/drive/MyDrive/archivos-redes/trabajo-final/list_valid_loss_cada_ej_64_ADAM_50epoch.npy', list_valid_loss_cada_ej_64)"
      ],
      "metadata": {
        "id": "hXKiLBBYMRX-"
      },
      "execution_count": null,
      "outputs": []
    },
    {
      "cell_type": "code",
      "source": [
        "# Save the general checkpoint (luego de tener el modelo ya entrenado)\n",
        "\n",
        "# Collect all relevant information and build your dictionary.\n",
        "\n",
        "\n",
        "# Additional information\n",
        "EPOCH = 50\n",
        "PATH = '/content/drive/MyDrive/archivos-redes/trabajo-final/modelo_64_ADAM_50epoch.pt'\n",
        "LOSS = 0.054155\n",
        "\n",
        "torch.save({\n",
        "            'epoch': EPOCH,\n",
        "            'model_state_dict': model.state_dict(),\n",
        "            'optimizer_state_dict': optimizer.state_dict(),\n",
        "            'loss': LOSS,\n",
        "            }, PATH)"
      ],
      "metadata": {
        "id": "LuYAyhI-Mow5"
      },
      "execution_count": null,
      "outputs": []
    },
    {
      "cell_type": "code",
      "source": [
        "# Load the general checkpoint\n",
        "# Remember to first initialize the model and optimizer, then load the dictionary locally.\n",
        "\n",
        "n=64\n",
        "\n",
        "model =  Autoencoder_conv(n)\n",
        "\n",
        "learning_rate = 1e-3 # necesario para definir\n",
        "optimizer = torch.optim.Adam(model.parameters(),lr=learning_rate,eps=1e-08,weight_decay=0,amsgrad=False)\n",
        "\n",
        "PATH = '/content/drive/MyDrive/archivos-redes/trabajo-final/modelo_64_ADAM_50epoch.pt'\n",
        "\n",
        "checkpoint = torch.load(PATH)\n",
        "model.load_state_dict(checkpoint['model_state_dict'])\n",
        "optimizer.load_state_dict(checkpoint['optimizer_state_dict'])\n",
        "epoch = checkpoint['epoch']\n",
        "loss = checkpoint['loss']\n",
        "\n",
        "#model.eval()        #You must call model.eval() to set dropout and batch normalization layers to evaluation mode before running inference. Failing to do this will yield inconsistent inference results.\n",
        "# - or -\n",
        "#model.train()       #If you wish to resuming training, call model.train() to ensure these layers are in training mode.\n",
        "\n",
        "model = model.to(device)"
      ],
      "metadata": {
        "id": "9LgHUSgN0zqj"
      },
      "execution_count": null,
      "outputs": []
    },
    {
      "cell_type": "code",
      "source": [
        "#64\n",
        "list_train_avg_loss_incorrecta_64 = np.load('/content/drive/MyDrive/archivos-redes/trabajo-final/list_train_avg_loss_incorrecta_64_ADAM_50epoch.npy')\n",
        "list_train_avg_loss_64 = np.load('/content/drive/MyDrive/archivos-redes/trabajo-final/list_train_avg_loss_64_ADAM_50epoch.npy')\n",
        "list_valid_avg_loss_64 = np.load('/content/drive/MyDrive/archivos-redes/trabajo-final/list_valid_avg_loss_64_ADAM_50epoch.npy')\n",
        "\n",
        "list_train_loss_incorrecta_cada_ej_64 = np.load('/content/drive/MyDrive/archivos-redes/trabajo-final/list_train_loss_incorrecta_cada_ej_64_ADAM_50epoch.npy')\n",
        "list_train_loss_cada_ej_64 = np.load('/content/drive/MyDrive/archivos-redes/trabajo-final/list_train_loss_cada_ej_64_ADAM_50epoch.npy')\n",
        "list_valid_loss_cada_ej_64 = np.load('/content/drive/MyDrive/archivos-redes/trabajo-final/list_valid_loss_cada_ej_64_ADAM_50epoch.npy')"
      ],
      "metadata": {
        "id": "RvCxBHIr1T4y"
      },
      "execution_count": null,
      "outputs": []
    },
    {
      "cell_type": "markdown",
      "source": [
        "## grafico loss"
      ],
      "metadata": {
        "id": "eC317EID4jcK"
      }
    },
    {
      "cell_type": "code",
      "source": [
        "plt.xlabel('Épocas')\n",
        "plt.ylabel('Loss')\n",
        "#plt.xlim(-0.1,5.1)\n",
        "#plt.ylim(-0.1,1.1)\n",
        "\n",
        "\n",
        "#plt.plot(range(1,len(list_train_avg_loss)+1),list_train_loss_cada_ej,c='lightgreen')\n",
        "#plt.plot(range(1,len(list_valid_loss_cada_ej_64)+1),list_valid_loss_cada_ej_64,c='lightgreen')#,lw=0.5)\n",
        "\n",
        "\n",
        "#plt.plot(range(1,len(list_train_avg_loss_incorrecta)+1),list_train_avg_loss_incorrecta,label=\"train-incorr\",linestyle='-',c='red')\n",
        "\n",
        "plt.plot(range(1,len(list_valid_avg_loss_64)+1),list_valid_avg_loss_64,label=\"validación\",linestyle='-',c='deepskyblue')\n",
        "plt.plot(range(1,len(list_train_avg_loss_64)+1),list_train_avg_loss_64,label=\"entrenamiento\",linestyle='--',c='darkblue')\n",
        "\n",
        "#plt.xlim(0,100)\n",
        "\n",
        "#plt.savefig(\"/content/drive/MyDrive/archivos-redes/trabajo-final/Grafico_autoencoder_juan_64_02_ADAM_50epoch.png\", dpi =300)\n",
        "\n",
        "plt.title('')\n",
        "plt.legend()"
      ],
      "metadata": {
        "colab": {
          "base_uri": "https://localhost:8080/",
          "height": 469
        },
        "id": "xQB9rq8xMLS3",
        "outputId": "15192762-771f-4577-df09-47f2a9bd12ab"
      },
      "execution_count": null,
      "outputs": [
        {
          "output_type": "execute_result",
          "data": {
            "text/plain": [
              "<matplotlib.legend.Legend at 0x783f04491660>"
            ]
          },
          "metadata": {},
          "execution_count": 32
        },
        {
          "output_type": "display_data",
          "data": {
            "text/plain": [
              "<Figure size 640x480 with 1 Axes>"
            ],
            "image/png": "[encoded data removed]"
          },
          "metadata": {}
        }
      ]
    },
    {
      "cell_type": "markdown",
      "source": [
        "## grafico imagenes originales vs predichas"
      ],
      "metadata": {
        "id": "srg_ndGT-Rgc"
      }
    },
    {
      "cell_type": "code",
      "source": [
        "# Load the general checkpoint\n",
        "# Remember to first initialize the model and optimizer, then load the dictionary locally.\n",
        "\n",
        "model = Autoencoder_conv(n=64)\n",
        "learning_rate = 1e-3 # necesario para definir\n",
        "optimizer = torch.optim.Adam(model.parameters(),lr=learning_rate,eps=1e-08,weight_decay=0,amsgrad=False)\n",
        "\n",
        "PATH = '/content/drive/MyDrive/archivos-redes/trabajo-3/modelo_64_ADAM_50epoch.pt'\n",
        "\n",
        "checkpoint = torch.load(PATH)\n",
        "model.load_state_dict(checkpoint['model_state_dict'])\n",
        "optimizer.load_state_dict(checkpoint['optimizer_state_dict'])\n",
        "epoch = checkpoint['epoch']\n",
        "loss = checkpoint['loss']\n",
        "\n",
        "#model.eval()        #You must call model.eval() to set dropout and batch normalization layers to evaluation mode before running inference. Failing to do this will yield inconsistent inference results.\n",
        "# - or -\n",
        "#model.train()       #If you wish to resuming training, call model.train() to ensure these layers are in training mode."
      ],
      "metadata": {
        "id": "bR0UdMl--Q_W"
      },
      "execution_count": null,
      "outputs": []
    },
    {
      "cell_type": "code",
      "source": [],
      "metadata": {
        "id": "d7fbetYQ81w1"
      },
      "execution_count": null,
      "outputs": []
    },
    {
      "cell_type": "code",
      "source": [
        "model = model.to('cpu')\n",
        "\n",
        "figure = plt.figure()\n",
        "rows, cols = 3,2\n",
        "i = 0 #subplot index\n",
        "\n",
        "model.eval()\n",
        "\n",
        "for row in range(1,rows+1):\n",
        "  j = torch.randint(len(train_set),size=(1,)).item()\n",
        "  #graficamos imagen sin entrenar\n",
        "  i += 1\n",
        "  image,_ = train_set[j]\n",
        "  figure.add_subplot(rows,cols,i)\n",
        "  if row == 1:\n",
        "    plt.title('original')\n",
        "  plt.axis('off')\n",
        "  plt.imshow(unbatch(image),cmap='Greys_r')\n",
        "  #ploteamos imagen predicha\n",
        "  i += 1\n",
        "  figure.add_subplot(rows,cols,i)\n",
        "  if row == 1:\n",
        "    plt.title('predicha')\n",
        "  plt.axis('off')\n",
        "  image_pred = unbatch(model(batch(image)))\n",
        "  plt.imshow(image_pred,cmap='Greys_r')\n",
        "\n",
        "\n",
        "#plt.savefig(\"/content/drive/MyDrive/archivos-redes/trabajo-final/Grafico_prediccion_autoencoder_juan_64_02_ADAM_50epoch_2.png\", dpi =300)\n",
        "\n",
        "plt.show()"
      ],
      "metadata": {
        "colab": {
          "base_uri": "https://localhost:8080/",
          "height": 428
        },
        "id": "GEhJYUa94QSZ",
        "outputId": "844ff5bf-b253-4469-dafe-0f76b7e24262"
      },
      "execution_count": null,
      "outputs": [
        {
          "output_type": "display_data",
          "data": {
            "text/plain": [
              "<Figure size 640x480 with 6 Axes>"
            ],
            "image/png": "[encoded data removed]"
          },
          "metadata": {}
        }
      ]
    },
    {
      "cell_type": "markdown",
      "source": [
        "# ---Entrenando autoencoder conv sin capa lineal p=0.2 ADAM\n"
      ],
      "metadata": {
        "id": "hix5tV2u-3Dz"
      }
    },
    {
      "cell_type": "code",
      "source": [
        "n=64\n",
        "\n",
        "#model = Autoencoder_conv(n)\n",
        "#model = AutoencoderConv(n)\n",
        "#model = autoEncoder(n)\n",
        "model = AutoencoderConv_SIN_LINEAL()\n",
        "\n",
        "model = model.to(device)\n",
        "\n",
        "#print(model,device)"
      ],
      "metadata": {
        "id": "eqiLWHec-2a5"
      },
      "execution_count": null,
      "outputs": []
    },
    {
      "cell_type": "code",
      "source": [
        "# Creamos un optimizador, un Stochastic Gradient Descent, en este caso.\n",
        "learning_rate = 1e-3 # necesario para definir\n",
        "#optimizer = torch.optim.SGD(model.parameters(),lr=learning_rate)\n",
        "optimizer = torch.optim.Adam(model.parameters(),lr=learning_rate,eps=1e-08,weight_decay=0,amsgrad=False)"
      ],
      "metadata": {
        "id": "6Se-kVSD6Pig"
      },
      "execution_count": null,
      "outputs": []
    },
    {
      "cell_type": "code",
      "source": [
        "# Finalmente, entrenamos iterando sobre épocas.\n",
        "# Además, testeamos el modelo en cada una de ellas.\n",
        "\n",
        "num_epochs = 50\n",
        "\n",
        "list_train_avg_loss_incorrecta_SINL = []\n",
        "list_train_avg_loss_SINL = []\n",
        "list_valid_avg_loss_SINL = []\n",
        "#list_train_precision_incorrecta = []\n",
        "#list_train_precision = []\n",
        "#list_valid_precision = []\n",
        "\n",
        "list_train_loss_incorrecta_cada_ej_SINL = []\n",
        "list_train_loss_cada_ej_SINL = []\n",
        "list_valid_loss_cada_ej_SINL = []\n",
        "\n",
        "for epoch in range(num_epochs):\n",
        "    print(f\"Epoch {epoch+1}\\n-------------------------------\")\n",
        "    train_avg_loss_incorrecta_SINL,train_loss_incorrecta_cada_ej_SINL = train_loop(train_loader,model,loss_fn,optimizer)\n",
        "    train_avg_loss_SINL,train_loss_cada_ej_SINL = valid_loop(train_loader,model,loss_fn)\n",
        "    valid_avg_loss_SINL,valid_loss_cada_ej_SINL = valid_loop(valid_loader,model,loss_fn)\n",
        "\n",
        "    list_train_avg_loss_incorrecta_SINL.append(train_avg_loss_incorrecta_SINL)\n",
        "    list_train_avg_loss_SINL.append(train_avg_loss_SINL)\n",
        "    list_valid_avg_loss_SINL.append(valid_avg_loss_SINL)\n",
        "\n",
        "    list_train_loss_incorrecta_cada_ej_SINL.append(train_loss_incorrecta_cada_ej_SINL)\n",
        "    list_train_loss_cada_ej_SINL.append(train_loss_cada_ej_SINL)\n",
        "    list_valid_loss_cada_ej_SINL.append(valid_loss_cada_ej_SINL)\n",
        "\n",
        "print(\"Done!\")"
      ],
      "metadata": {
        "colab": {
          "base_uri": "https://localhost:8080/"
        },
        "outputId": "fc74ca1c-d2cd-4435-bcda-77f177184a33",
        "id": "59CT6Ohv9vYw"
      },
      "execution_count": null,
      "outputs": [
        {
          "output_type": "stream",
          "name": "stdout",
          "text": [
            "Epoch 1\n",
            "-------------------------------\n",
            "avg_loss=0.041872\n",
            "avg_loss=0.041946\n",
            "Epoch 2\n",
            "-------------------------------\n",
            "avg_loss=0.041171\n",
            "avg_loss=0.041260\n",
            "Epoch 3\n",
            "-------------------------------\n",
            "avg_loss=0.038864\n",
            "avg_loss=0.038947\n",
            "Epoch 4\n",
            "-------------------------------\n",
            "avg_loss=0.038629\n",
            "avg_loss=0.038704\n",
            "Epoch 5\n",
            "-------------------------------\n",
            "avg_loss=0.038464\n",
            "avg_loss=0.038533\n",
            "Epoch 6\n",
            "-------------------------------\n",
            "avg_loss=0.037034\n",
            "avg_loss=0.037105\n",
            "Epoch 7\n",
            "-------------------------------\n",
            "avg_loss=0.038082\n",
            "avg_loss=0.038142\n",
            "Epoch 8\n",
            "-------------------------------\n",
            "avg_loss=0.037705\n",
            "avg_loss=0.037770\n",
            "Epoch 9\n",
            "-------------------------------\n",
            "avg_loss=0.038217\n",
            "avg_loss=0.038275\n",
            "Epoch 10\n",
            "-------------------------------\n",
            "avg_loss=0.038339\n",
            "avg_loss=0.038395\n",
            "Epoch 11\n",
            "-------------------------------\n",
            "avg_loss=0.039520\n",
            "avg_loss=0.039575\n",
            "Epoch 12\n",
            "-------------------------------\n",
            "avg_loss=0.038807\n",
            "avg_loss=0.038864\n",
            "Epoch 13\n",
            "-------------------------------\n",
            "avg_loss=0.038519\n",
            "avg_loss=0.038575\n",
            "Epoch 14\n",
            "-------------------------------\n",
            "avg_loss=0.038763\n",
            "avg_loss=0.038816\n",
            "Epoch 15\n",
            "-------------------------------\n",
            "avg_loss=0.038504\n",
            "avg_loss=0.038551\n",
            "Epoch 16\n",
            "-------------------------------\n",
            "avg_loss=0.038220\n",
            "avg_loss=0.038272\n",
            "Epoch 17\n",
            "-------------------------------\n",
            "avg_loss=0.038392\n",
            "avg_loss=0.038439\n",
            "Epoch 18\n",
            "-------------------------------\n",
            "avg_loss=0.038636\n",
            "avg_loss=0.038681\n",
            "Epoch 19\n",
            "-------------------------------\n",
            "avg_loss=0.038994\n",
            "avg_loss=0.039042\n",
            "Epoch 20\n",
            "-------------------------------\n",
            "avg_loss=0.038595\n",
            "avg_loss=0.038643\n",
            "Epoch 21\n",
            "-------------------------------\n",
            "avg_loss=0.038277\n",
            "avg_loss=0.038321\n",
            "Epoch 22\n",
            "-------------------------------\n",
            "avg_loss=0.038217\n",
            "avg_loss=0.038262\n",
            "Epoch 23\n",
            "-------------------------------\n",
            "avg_loss=0.039022\n",
            "avg_loss=0.039066\n",
            "Epoch 24\n",
            "-------------------------------\n",
            "avg_loss=0.038674\n",
            "avg_loss=0.038721\n",
            "Epoch 25\n",
            "-------------------------------\n",
            "avg_loss=0.038185\n",
            "avg_loss=0.038231\n",
            "Epoch 26\n",
            "-------------------------------\n",
            "avg_loss=0.038092\n",
            "avg_loss=0.038136\n",
            "Epoch 27\n",
            "-------------------------------\n",
            "avg_loss=0.037911\n",
            "avg_loss=0.037953\n",
            "Epoch 28\n",
            "-------------------------------\n",
            "avg_loss=0.038442\n",
            "avg_loss=0.038483\n",
            "Epoch 29\n",
            "-------------------------------\n",
            "avg_loss=0.037451\n",
            "avg_loss=0.037494\n",
            "Epoch 30\n",
            "-------------------------------\n",
            "avg_loss=0.038188\n",
            "avg_loss=0.038227\n",
            "Epoch 31\n",
            "-------------------------------\n",
            "avg_loss=0.037261\n",
            "avg_loss=0.037299\n",
            "Epoch 32\n",
            "-------------------------------\n",
            "avg_loss=0.038425\n",
            "avg_loss=0.038468\n",
            "Epoch 33\n",
            "-------------------------------\n",
            "avg_loss=0.038871\n",
            "avg_loss=0.038911\n",
            "Epoch 34\n",
            "-------------------------------\n",
            "avg_loss=0.038397\n",
            "avg_loss=0.038434\n",
            "Epoch 35\n",
            "-------------------------------\n",
            "avg_loss=0.037711\n",
            "avg_loss=0.037748\n",
            "Epoch 36\n",
            "-------------------------------\n",
            "avg_loss=0.038440\n",
            "avg_loss=0.038479\n",
            "Epoch 37\n",
            "-------------------------------\n",
            "avg_loss=0.037434\n",
            "avg_loss=0.037472\n",
            "Epoch 38\n",
            "-------------------------------\n",
            "avg_loss=0.038332\n",
            "avg_loss=0.038372\n",
            "Epoch 39\n",
            "-------------------------------\n",
            "avg_loss=0.037458\n",
            "avg_loss=0.037499\n",
            "Epoch 40\n",
            "-------------------------------\n",
            "avg_loss=0.038842\n",
            "avg_loss=0.038875\n",
            "Epoch 41\n",
            "-------------------------------\n",
            "avg_loss=0.038108\n",
            "avg_loss=0.038141\n",
            "Epoch 42\n",
            "-------------------------------\n",
            "avg_loss=0.038440\n",
            "avg_loss=0.038469\n",
            "Epoch 43\n",
            "-------------------------------\n",
            "avg_loss=0.038112\n",
            "avg_loss=0.038147\n",
            "Epoch 44\n",
            "-------------------------------\n",
            "avg_loss=0.038093\n",
            "avg_loss=0.038129\n",
            "Epoch 45\n",
            "-------------------------------\n",
            "avg_loss=0.038472\n",
            "avg_loss=0.038508\n",
            "Epoch 46\n",
            "-------------------------------\n",
            "avg_loss=0.038092\n",
            "avg_loss=0.038127\n",
            "Epoch 47\n",
            "-------------------------------\n",
            "avg_loss=0.038291\n",
            "avg_loss=0.038327\n",
            "Epoch 48\n",
            "-------------------------------\n",
            "avg_loss=0.038148\n",
            "avg_loss=0.038185\n",
            "Epoch 49\n",
            "-------------------------------\n",
            "avg_loss=0.038309\n",
            "avg_loss=0.038346\n",
            "Epoch 50\n",
            "-------------------------------\n",
            "avg_loss=0.037138\n",
            "avg_loss=0.037170\n",
            "Done!\n"
          ]
        }
      ]
    },
    {
      "cell_type": "markdown",
      "source": [
        "## guardo y cargo"
      ],
      "metadata": {
        "id": "dKE41P-i9vYx"
      }
    },
    {
      "cell_type": "code",
      "source": [
        "#aca guardo las listas con los loss para poder graficar\n",
        "\n",
        "np.save('/content/drive/MyDrive/archivos-redes/trabajo-final/list_train_avg_loss_incorrecta_SINL_ADAM_50epoch.npy', list_train_avg_loss_incorrecta_SINL)\n",
        "np.save('/content/drive/MyDrive/archivos-redes/trabajo-final/list_train_avg_loss_SINL_ADAM_50epoch.npy', list_train_avg_loss_SINL)\n",
        "np.save('/content/drive/MyDrive/archivos-redes/trabajo-final/list_valid_avg_loss_SINL_ADAM_50epoch.npy', list_valid_avg_loss_SINL)\n",
        "\n",
        "np.save('/content/drive/MyDrive/archivos-redes/trabajo-final/list_train_loss_incorrecta_cada_ej_SINL_ADAM_50epoch.npy', list_train_loss_incorrecta_cada_ej_SINL)\n",
        "np.save('/content/drive/MyDrive/archivos-redes/trabajo-final/list_train_loss_cada_ej_SINL_ADAM_50epoch.npy', list_train_loss_cada_ej_SINL)\n",
        "np.save('/content/drive/MyDrive/archivos-redes/trabajo-final/list_valid_loss_cada_ej_SINL_ADAM_50epoch.npy', list_valid_loss_cada_ej_SINL)"
      ],
      "metadata": {
        "id": "bnYPTwqo9vYx"
      },
      "execution_count": null,
      "outputs": []
    },
    {
      "cell_type": "code",
      "source": [
        "# Save the general checkpoint (luego de tener el modelo ya entrenado)\n",
        "\n",
        "# Collect all relevant information and build your dictionary.\n",
        "\n",
        "\n",
        "# Additional information\n",
        "EPOCH = 50\n",
        "PATH = '/content/drive/MyDrive/archivos-redes/trabajo-final/modelo_SINL_ADAM_50epoch.pt'\n",
        "LOSS = 0.054155\n",
        "\n",
        "torch.save({\n",
        "            'epoch': EPOCH,\n",
        "            'model_state_dict': model.state_dict(),\n",
        "            'optimizer_state_dict': optimizer.state_dict(),\n",
        "            'loss': LOSS,\n",
        "            }, PATH)"
      ],
      "metadata": {
        "id": "j_idxThf9vYx"
      },
      "execution_count": null,
      "outputs": []
    },
    {
      "cell_type": "code",
      "source": [
        "# Load the general checkpoint\n",
        "# Remember to first initialize the model and optimizer, then load the dictionary locally.\n",
        "\n",
        "model = AutoencoderConv(n)\n",
        "\n",
        "learning_rate = 1e-3 # necesario para definir\n",
        "optimizer = torch.optim.Adam(model.parameters(),lr=learning_rate,eps=1e-08,weight_decay=0,amsgrad=False)\n",
        "\n",
        "PATH = '/content/drive/MyDrive/archivos-redes/trabajo-3/modelo_SINL_ADAM_50epoch.pt'\n",
        "\n",
        "checkpoint = torch.load(PATH)\n",
        "model.load_state_dict(checkpoint['model_state_dict'])\n",
        "optimizer.load_state_dict(checkpoint['optimizer_state_dict'])\n",
        "epoch = checkpoint['epoch']\n",
        "loss = checkpoint['loss']\n",
        "\n",
        "#model.eval()        #You must call model.eval() to set dropout and batch normalization layers to evaluation mode before running inference. Failing to do this will yield inconsistent inference results.\n",
        "# - or -\n",
        "#model.train()       #If you wish to resuming training, call model.train() to ensure these layers are in training mode.\n",
        "\n",
        "model = model.to(device)"
      ],
      "metadata": {
        "id": "A1R71tnU9vYx"
      },
      "execution_count": null,
      "outputs": []
    },
    {
      "cell_type": "code",
      "source": [
        "#64\n",
        "list_train_avg_loss_incorrecta = np.load('/content/drive/MyDrive/archivos-redes/trabajo-final/list_train_avg_loss_incorrecta_SINL_ADAM_50epoch.npy')\n",
        "list_train_avg_loss = np.load('/content/drive/MyDrive/archivos-redes/trabajo-final/list_train_avg_loss_SINL_ADAM_50epoch.npy')\n",
        "list_valid_avg_loss = np.load('/content/drive/MyDrive/archivos-redes/trabajo-final/list_valid_avg_loss_SINL_ADAM_50epoch.npy')\n",
        "\n",
        "list_train_loss_incorrecta_cada_ej = np.load('/content/drive/MyDrive/archivos-redes/trabajo-final/list_train_loss_incorrecta_cada_ej_SINL_ADAM_50epoch.npy')\n",
        "list_train_loss_cada_ej = np.load('/content/drive/MyDrive/archivos-redes/trabajo-final/list_train_loss_cada_ej_SINL_ADAM_50epoch.npy')\n",
        "list_valid_loss_cada_ej = np.load('/content/drive/MyDrive/archivos-redes/trabajo-final/list_valid_loss_cada_ej_SINL_ADAM_50epoch.npy')"
      ],
      "metadata": {
        "id": "HTi5DZ4d9vYy"
      },
      "execution_count": null,
      "outputs": []
    },
    {
      "cell_type": "markdown",
      "source": [
        "## grafico loss"
      ],
      "metadata": {
        "id": "tYKgdDas9vYy"
      }
    },
    {
      "cell_type": "code",
      "source": [
        "plt.xlabel('Épocas')\n",
        "plt.ylabel('Loss')\n",
        "#plt.xlim(-0.1,5.1)\n",
        "#plt.ylim(-0.1,1.1)\n",
        "\n",
        "\n",
        "#plt.plot(range(1,len(list_train_avg_loss)+1),list_train_loss_cada_ej,c='lightgreen')\n",
        "#plt.plot(range(1,len(list_valid_loss_cada_ej_SINL)+1),list_valid_loss_cada_ej_SINL,c='lightgreen')#,lw=0.5)\n",
        "\n",
        "\n",
        "#plt.plot(range(1,len(list_train_avg_loss_incorrecta)+1),list_train_avg_loss_incorrecta,label=\"train-incorr\",linestyle='-',c='red')\n",
        "\n",
        "plt.plot(range(1,len(list_valid_avg_loss)+1),list_valid_avg_loss,label=\"validación\",linestyle='-',c='deepskyblue')\n",
        "plt.plot(range(1,len(list_train_avg_loss)+1),list_train_avg_loss,label=\"entrenamiento\",linestyle='--',c='darkblue')\n",
        "\n",
        "#plt.xlim(0,100)\n",
        "\n",
        "plt.title('Autoencoder 3')\n",
        "\n",
        "#plt.savefig(\"/content/drive/MyDrive/archivos-redes/trabajo-final/Grafico_autoencoder_juan_SINL_02_ADAM_50epoch.png\", dpi =300)\n",
        "\n",
        "\n",
        "plt.legend()"
      ],
      "metadata": {
        "colab": {
          "base_uri": "https://localhost:8080/",
          "height": 492
        },
        "outputId": "8ef6ae0d-c3f2-4a93-c8c2-d245a2e58d47",
        "id": "xXjVy4Sk9vYy"
      },
      "execution_count": null,
      "outputs": [
        {
          "output_type": "execute_result",
          "data": {
            "text/plain": [
              "<matplotlib.legend.Legend at 0x7d980a3bb9d0>"
            ]
          },
          "metadata": {},
          "execution_count": 82
        },
        {
          "output_type": "display_data",
          "data": {
            "text/plain": [
              "<Figure size 640x480 with 1 Axes>"
            ],
            "image/png": "[encoded data removed]"
          },
          "metadata": {}
        }
      ]
    },
    {
      "cell_type": "markdown",
      "source": [
        "## grafico imagenes originales vs predichas"
      ],
      "metadata": {
        "id": "J8ZkWqas9vYz"
      }
    },
    {
      "cell_type": "code",
      "source": [
        "# Load the general checkpoint\n",
        "# Remember to first initialize the model and optimizer, then load the dictionary locally.\n",
        "\n",
        "model = AutoencoderConv_SIN_LINEAL()\n",
        "learning_rate = 1e-3 # necesario para definir\n",
        "optimizer = torch.optim.Adam(model.parameters(),lr=learning_rate,eps=1e-08,weight_decay=0,amsgrad=False)\n",
        "\n",
        "PATH = '/content/drive/MyDrive/archivos-redes/trabajo-3/modelo_SINL_ADAM_50epoch.pt'\n",
        "\n",
        "checkpoint = torch.load(PATH)\n",
        "model.load_state_dict(checkpoint['model_state_dict'])\n",
        "optimizer.load_state_dict(checkpoint['optimizer_state_dict'])\n",
        "epoch = checkpoint['epoch']\n",
        "loss = checkpoint['loss']\n",
        "\n",
        "#model.eval()        #You must call model.eval() to set dropout and batch normalization layers to evaluation mode before running inference. Failing to do this will yield inconsistent inference results.\n",
        "# - or -\n",
        "#model.train()       #If you wish to resuming training, call model.train() to ensure these layers are in training mode."
      ],
      "metadata": {
        "id": "2KqI_zk59vYz"
      },
      "execution_count": null,
      "outputs": []
    },
    {
      "cell_type": "code",
      "source": [
        "model = model.to('cpu')\n",
        "\n",
        "figure = plt.figure()\n",
        "rows, cols = 3,2\n",
        "i = 0 #subplot index\n",
        "\n",
        "model.eval()\n",
        "\n",
        "for row in range(1,rows+1):\n",
        "  j = torch.randint(len(train_set),size=(1,)).item()\n",
        "  #graficamos imagen sin entrenar\n",
        "  i += 1\n",
        "  image,_ = train_set[j]\n",
        "  figure.add_subplot(rows,cols,i)\n",
        "  if row == 1:\n",
        "    plt.title('original')\n",
        "  plt.axis('off')\n",
        "  plt.imshow(unbatch(image),cmap='Greys_r')\n",
        "  #ploteamos imagen predicha\n",
        "  i += 1\n",
        "  figure.add_subplot(rows,cols,i)\n",
        "  if row == 1:\n",
        "    plt.title('predicha')\n",
        "  plt.axis('off')\n",
        "  image_pred = unbatch(model(batch(image)))\n",
        "  plt.imshow(image_pred,cmap='Greys_r')\n",
        "\n",
        "plt.savefig(\"/content/drive/MyDrive/archivos-redes/trabajo-final/Grafico_prediccion_autoencoder_juan_SINL_02_ADAM_50epoch_4.png\", dpi =300)\n",
        "\n",
        "plt.show()"
      ],
      "metadata": {
        "colab": {
          "base_uri": "https://localhost:8080/",
          "height": 428
        },
        "outputId": "8fea0e2c-3966-4dac-a7b8-b131e38663e8",
        "id": "fX7e3SUm9vYz"
      },
      "execution_count": null,
      "outputs": [
        {
          "output_type": "display_data",
          "data": {
            "text/plain": [
              "<Figure size 640x480 with 6 Axes>"
            ],
            "image/png": "[encoded data removed]"
          },
          "metadata": {}
        }
      ]
    },
    {
      "cell_type": "code",
      "source": [],
      "metadata": {
        "id": "xESSmTmW6Ppu"
      },
      "execution_count": null,
      "outputs": []
    },
    {
      "cell_type": "code",
      "source": [],
      "metadata": {
        "id": "TtINs4-p6PsT"
      },
      "execution_count": null,
      "outputs": []
    },
    {
      "cell_type": "code",
      "source": [],
      "metadata": {
        "id": "DwYgXT-D6Pvh"
      },
      "execution_count": null,
      "outputs": []
    },
    {
      "cell_type": "code",
      "source": [],
      "metadata": {
        "id": "XFDzdR6vBBN5"
      },
      "execution_count": null,
      "outputs": []
    },
    {
      "cell_type": "code",
      "source": [],
      "metadata": {
        "id": "7PBZ2IosCAHW"
      },
      "execution_count": null,
      "outputs": []
    },
    {
      "cell_type": "code",
      "source": [],
      "metadata": {
        "id": "dqXCrBiJCAKF"
      },
      "execution_count": null,
      "outputs": []
    },
    {
      "cell_type": "markdown",
      "source": [
        "# *modelo rashka"
      ],
      "metadata": {
        "id": "dTmN2b8uwo80"
      }
    },
    {
      "cell_type": "code",
      "source": [
        "import torch\n",
        "import torch.nn as nn\n",
        "import torchvision\n",
        "from torchvision import transforms\n",
        "\n",
        "import numpy as np\n",
        "import matplotlib.pyplot as plt"
      ],
      "metadata": {
        "id": "yB-uk4W5CANE"
      },
      "execution_count": null,
      "outputs": []
    },
    {
      "cell_type": "code",
      "source": [
        "class Reshape(nn.Module):\n",
        "  def __init__(self, *args):\n",
        "    super().__init__()\n",
        "    self.shape = args\n",
        "\n",
        "  def forward(self, x):\n",
        "    return x.view(self.shape)\n",
        "\n",
        "class Trim(nn.Module):\n",
        "  def __init__(self, *args):\n",
        "    super().__init__()\n",
        "\n",
        "  def forward(self, x):\n",
        "    return x[:, :, :28, :28]\n"
      ],
      "metadata": {
        "id": "6qGIW98XCsfN"
      },
      "execution_count": null,
      "outputs": []
    },
    {
      "cell_type": "code",
      "source": [
        "#Ahora podemos definir nuestra red neuronal\n",
        "\n",
        "class autoEncoder(nn.Module):\n",
        "  def __init__(self,n):\n",
        "    super().__init__()\n",
        "    self.n = n\n",
        "    self.conv = nn.Sequential(\n",
        "        nn.Conv2d(1, 32, stride=(1, 1), kernel_size=(3, 3), padding=1),\n",
        "        nn.LeakyReLU(0.01),\n",
        "        nn.Conv2d(32, 64, stride=(2, 2), kernel_size=(3, 3), padding=1),\n",
        "        nn.LeakyReLU(0.01),\n",
        "        nn.Conv2d(64, 64, stride=(2, 2), kernel_size=(3, 3), padding=1),\n",
        "        nn.LeakyReLU(0.01),\n",
        "        nn.Conv2d(64, 64, stride=(1, 1), kernel_size=(3, 3), padding=1),\n",
        "        nn.Flatten(),\n",
        "        nn.Linear(3136, n)\n",
        "    )\n",
        "\n",
        "\n",
        "    self.convTrans = nn.Sequential(\n",
        "        torch.nn.Linear(n, 3136),\n",
        "        Reshape(-1, 64, 7, 7),\n",
        "        nn.ConvTranspose2d(64, 64, stride=(1, 1), kernel_size=(3, 3), padding=1),\n",
        "        nn.LeakyReLU(0.01),\n",
        "        nn.ConvTranspose2d(64, 64, stride=(2, 2), kernel_size=(3, 3), padding=1),\n",
        "        nn.LeakyReLU(0.01),\n",
        "        nn.ConvTranspose2d(64, 32, stride=(2, 2), kernel_size=(3, 3), padding=0),\n",
        "        nn.LeakyReLU(0.01),\n",
        "        nn.ConvTranspose2d(32, 1, stride=(1, 1), kernel_size=(3, 3), padding=0),\n",
        "        Trim(),  # 1x29x29 -> 1x28x28\n",
        "        nn.Sigmoid()\n",
        "        )\n",
        "  def forward(self, x):\n",
        "    x = self.conv(x)\n",
        "    x = self.convTrans(x)\n",
        "    return x"
      ],
      "metadata": {
        "id": "GbkVSNVCCAQL"
      },
      "execution_count": null,
      "outputs": []
    },
    {
      "cell_type": "markdown",
      "source": [
        "# ---Entrenando autoencoder conv RASHKA n=64 p=0 ADAM"
      ],
      "metadata": {
        "id": "o6A0sv5kowu-"
      }
    },
    {
      "cell_type": "code",
      "source": [
        "n=64\n",
        "\n",
        "model = autoEncoder(n)\n",
        "model = model.to(device)\n",
        "\n",
        "#print(model,device)"
      ],
      "metadata": {
        "id": "Ky5EpQBBCWCr"
      },
      "execution_count": null,
      "outputs": []
    },
    {
      "cell_type": "code",
      "source": [
        "# Creamos un optimizador, un Stochastic Gradient Descent, en este caso.\n",
        "learning_rate = 1e-3 # necesario para definir\n",
        "#optimizer = torch.optim.SGD(model.parameters(),lr=learning_rate)\n",
        "optimizer = torch.optim.Adam(model.parameters(),lr=learning_rate,eps=1e-08,weight_decay=0,amsgrad=False)"
      ],
      "metadata": {
        "id": "plCmRiVVCWGX"
      },
      "execution_count": null,
      "outputs": []
    },
    {
      "cell_type": "code",
      "source": [
        "# Finalmente, entrenamos iterando sobre épocas.\n",
        "# Además, testeamos el modelo en cada una de ellas.\n",
        "\n",
        "num_epochs = 30\n",
        "\n",
        "list_train_avg_loss_incorrecta_64 = []\n",
        "list_train_avg_loss_64 = []\n",
        "list_valid_avg_loss_64 = []\n",
        "#list_train_precision_incorrecta = []\n",
        "#list_train_precision = []\n",
        "#list_valid_precision = []\n",
        "\n",
        "list_train_loss_incorrecta_cada_ej_64 = []\n",
        "list_train_loss_cada_ej_64 = []\n",
        "list_valid_loss_cada_ej_64 = []\n",
        "\n",
        "for epoch in range(num_epochs):\n",
        "    print(f\"Epoch {epoch+1}\\n-------------------------------\")\n",
        "    train_avg_loss_incorrecta_64,train_loss_incorrecta_cada_ej_64 = train_loop(train_loader,model,loss_fn,optimizer)\n",
        "    train_avg_loss_64,train_loss_cada_ej_64 = valid_loop(train_loader,model,loss_fn)\n",
        "    valid_avg_loss_64,valid_loss_cada_ej_64 = valid_loop(valid_loader,model,loss_fn)\n",
        "\n",
        "    list_train_avg_loss_incorrecta_64.append(train_avg_loss_incorrecta_64)\n",
        "    list_train_avg_loss_64.append(train_avg_loss_64)\n",
        "    list_valid_avg_loss_64.append(valid_avg_loss_64)\n",
        "\n",
        "    list_train_loss_incorrecta_cada_ej_64.append(train_loss_incorrecta_cada_ej_64)\n",
        "    list_train_loss_cada_ej_64.append(train_loss_cada_ej_64)\n",
        "    list_valid_loss_cada_ej_64.append(valid_loss_cada_ej_64)\n",
        "\n",
        "print(\"Done!\")"
      ],
      "metadata": {
        "colab": {
          "base_uri": "https://localhost:8080/"
        },
        "id": "RpC5STzlC5lf",
        "outputId": "ce331974-31d5-4125-d143-d1f54d8e9cc9"
      },
      "execution_count": null,
      "outputs": [
        {
          "output_type": "stream",
          "name": "stdout",
          "text": [
            "Epoch 1\n",
            "-------------------------------\n",
            "avg_loss=0.011535\n",
            "avg_loss=0.011628\n",
            "Epoch 2\n",
            "-------------------------------\n",
            "avg_loss=0.008347\n",
            "avg_loss=0.008455\n",
            "Epoch 3\n",
            "-------------------------------\n",
            "avg_loss=0.006963\n",
            "avg_loss=0.007071\n",
            "Epoch 4\n",
            "-------------------------------\n",
            "avg_loss=0.006220\n",
            "avg_loss=0.006339\n",
            "Epoch 5\n",
            "-------------------------------\n",
            "avg_loss=0.005834\n",
            "avg_loss=0.005966\n",
            "Epoch 6\n",
            "-------------------------------\n",
            "avg_loss=0.005361\n",
            "avg_loss=0.005502\n",
            "Epoch 7\n",
            "-------------------------------\n",
            "avg_loss=0.005304\n",
            "avg_loss=0.005452\n",
            "Epoch 8\n",
            "-------------------------------\n",
            "avg_loss=0.005020\n",
            "avg_loss=0.005181\n",
            "Epoch 9\n",
            "-------------------------------\n",
            "avg_loss=0.004794\n",
            "avg_loss=0.004971\n",
            "Epoch 10\n",
            "-------------------------------\n",
            "avg_loss=0.004748\n",
            "avg_loss=0.004942\n",
            "Epoch 11\n",
            "-------------------------------\n",
            "avg_loss=0.004655\n",
            "avg_loss=0.004863\n",
            "Epoch 12\n",
            "-------------------------------\n",
            "avg_loss=0.004545\n",
            "avg_loss=0.004766\n",
            "Epoch 13\n",
            "-------------------------------\n",
            "avg_loss=0.004477\n",
            "avg_loss=0.004707\n",
            "Epoch 14\n",
            "-------------------------------\n",
            "avg_loss=0.004411\n",
            "avg_loss=0.004651\n",
            "Epoch 15\n",
            "-------------------------------\n",
            "avg_loss=0.004408\n",
            "avg_loss=0.004653\n",
            "Epoch 16\n",
            "-------------------------------\n",
            "avg_loss=0.004345\n",
            "avg_loss=0.004600\n",
            "Epoch 17\n",
            "-------------------------------\n",
            "avg_loss=0.004305\n",
            "avg_loss=0.004565\n",
            "Epoch 18\n",
            "-------------------------------\n",
            "avg_loss=0.004261\n",
            "avg_loss=0.004540\n",
            "Epoch 19\n",
            "-------------------------------\n",
            "avg_loss=0.004178\n",
            "avg_loss=0.004467\n",
            "Epoch 20\n",
            "-------------------------------\n",
            "avg_loss=0.004189\n",
            "avg_loss=0.004488\n",
            "Epoch 21\n",
            "-------------------------------\n",
            "avg_loss=0.004161\n",
            "avg_loss=0.004463\n",
            "Epoch 22\n",
            "-------------------------------\n",
            "avg_loss=0.004170\n",
            "avg_loss=0.004484\n",
            "Epoch 23\n",
            "-------------------------------\n",
            "avg_loss=0.004114\n",
            "avg_loss=0.004437\n",
            "Epoch 24\n",
            "-------------------------------\n",
            "avg_loss=0.004188\n",
            "avg_loss=0.004520\n",
            "Epoch 25\n",
            "-------------------------------\n",
            "avg_loss=0.004033\n",
            "avg_loss=0.004372\n",
            "Epoch 26\n",
            "-------------------------------\n",
            "avg_loss=0.004015\n",
            "avg_loss=0.004359\n",
            "Epoch 27\n",
            "-------------------------------\n",
            "avg_loss=0.004030\n",
            "avg_loss=0.004378\n",
            "Epoch 28\n",
            "-------------------------------\n",
            "avg_loss=0.004040\n",
            "avg_loss=0.004408\n",
            "Epoch 29\n",
            "-------------------------------\n",
            "avg_loss=0.003992\n",
            "avg_loss=0.004365\n",
            "Epoch 30\n",
            "-------------------------------\n",
            "avg_loss=0.003966\n",
            "avg_loss=0.004344\n",
            "Done!\n"
          ]
        }
      ]
    },
    {
      "cell_type": "markdown",
      "source": [
        "## guardo y cargo"
      ],
      "metadata": {
        "id": "Au6zjX-0oEnO"
      }
    },
    {
      "cell_type": "code",
      "source": [
        "#aca guardo las listas con los loss para poder graficar\n",
        "\n",
        "np.save('/content/drive/MyDrive/archivos-redes/trabajo-final/list_train_avg_loss_incorrecta_RASH64_ADAM_50epoch.npy', list_train_avg_loss_incorrecta_64)\n",
        "np.save('/content/drive/MyDrive/archivos-redes/trabajo-final/list_train_avg_loss_RASH64_ADAM_50epoch.npy', list_train_avg_loss_64)\n",
        "np.save('/content/drive/MyDrive/archivos-redes/trabajo-final/list_valid_avg_loss_RASH64_ADAM_50epoch.npy', list_valid_avg_loss_64)\n",
        "\n",
        "np.save('/content/drive/MyDrive/archivos-redes/trabajo-final/list_train_loss_incorrecta_cada_ej_RASH64_ADAM_50epoch.npy', list_train_loss_incorrecta_cada_ej_64)\n",
        "np.save('/content/drive/MyDrive/archivos-redes/trabajo-final/list_train_loss_cada_ej_RASH64_ADAM_50epoch.npy', list_train_loss_cada_ej_64)\n",
        "np.save('/content/drive/MyDrive/archivos-redes/trabajo-final/list_valid_loss_cada_ej_RASH64_ADAM_50epoch.npy', list_valid_loss_cada_ej_64)"
      ],
      "metadata": {
        "id": "FuwIAacXoED9"
      },
      "execution_count": null,
      "outputs": []
    },
    {
      "cell_type": "code",
      "source": [
        "# Save the general checkpoint (luego de tener el modelo ya entrenado)\n",
        "\n",
        "# Collect all relevant information and build your dictionary.\n",
        "\n",
        "\n",
        "# Additional information\n",
        "EPOCH = 50\n",
        "PATH = '/content/drive/MyDrive/archivos-redes/trabajo-final/modelo_RASH64_ADAM_50epoch.pt'\n",
        "LOSS = 0.054155\n",
        "\n",
        "torch.save({\n",
        "            'epoch': EPOCH,\n",
        "            'model_state_dict': model.state_dict(),\n",
        "            'optimizer_state_dict': optimizer.state_dict(),\n",
        "            'loss': LOSS,\n",
        "            }, PATH)"
      ],
      "metadata": {
        "id": "nzbPo9bxoLlr"
      },
      "execution_count": null,
      "outputs": []
    },
    {
      "cell_type": "code",
      "source": [
        "# Load the general checkpoint\n",
        "# Remember to first initialize the model and optimizer, then load the dictionary locally.\n",
        "\n",
        "n=64\n",
        "\n",
        "model =  autoEncoder(n)\n",
        "\n",
        "learning_rate = 1e-3 # necesario para definir\n",
        "optimizer = torch.optim.Adam(model.parameters(),lr=learning_rate,eps=1e-08,weight_decay=0,amsgrad=False)\n",
        "\n",
        "PATH = '/content/drive/MyDrive/archivos-redes/trabajo-final/modelo_RASH64_ADAM_50epoch.pt'\n",
        "\n",
        "checkpoint = torch.load(PATH)\n",
        "model.load_state_dict(checkpoint['model_state_dict'])\n",
        "optimizer.load_state_dict(checkpoint['optimizer_state_dict'])\n",
        "epoch = checkpoint['epoch']\n",
        "loss = checkpoint['loss']\n",
        "\n",
        "#model.eval()        #You must call model.eval() to set dropout and batch normalization layers to evaluation mode before running inference. Failing to do this will yield inconsistent inference results.\n",
        "# - or -\n",
        "#model.train()       #If you wish to resuming training, call model.train() to ensure these layers are in training mode.\n",
        "\n",
        "model = model.to(device)"
      ],
      "metadata": {
        "id": "IuwXM7pMoS8Q"
      },
      "execution_count": null,
      "outputs": []
    },
    {
      "cell_type": "code",
      "source": [
        "#64\n",
        "list_train_avg_loss_incorrecta_RASH64 = np.load('/content/drive/MyDrive/archivos-redes/trabajo-final/list_train_avg_loss_incorrecta_RASH64_ADAM_50epoch.npy')\n",
        "list_train_avg_loss_RASH64 = np.load('/content/drive/MyDrive/archivos-redes/trabajo-final/list_train_avg_loss_RASH64_ADAM_50epoch.npy')\n",
        "list_valid_avg_loss_RASH64 = np.load('/content/drive/MyDrive/archivos-redes/trabajo-final/list_valid_avg_loss_RASH64_ADAM_50epoch.npy')\n",
        "\n",
        "list_train_loss_incorrecta_cada_ej_RASH64 = np.load('/content/drive/MyDrive/archivos-redes/trabajo-final/list_train_loss_incorrecta_cada_ej_RASH64_ADAM_50epoch.npy')\n",
        "list_train_loss_cada_ej_RASH64 = np.load('/content/drive/MyDrive/archivos-redes/trabajo-final/list_train_loss_cada_ej_RASH64_ADAM_50epoch.npy')\n",
        "list_valid_loss_cada_ej_RASH64 = np.load('/content/drive/MyDrive/archivos-redes/trabajo-final/list_valid_loss_cada_ej_RASH64_ADAM_50epoch.npy')"
      ],
      "metadata": {
        "id": "0kg1KZDYoTAp"
      },
      "execution_count": null,
      "outputs": []
    },
    {
      "cell_type": "markdown",
      "source": [
        "## grafico loss"
      ],
      "metadata": {
        "id": "DF8JrMG-oXj6"
      }
    },
    {
      "cell_type": "code",
      "source": [
        "plt.xlabel('epoch')\n",
        "plt.ylabel('loss')\n",
        "#plt.xlim(-0.1,5.1)\n",
        "#plt.ylim(-0.1,1.1)\n",
        "\n",
        "\n",
        "#plt.plot(range(1,len(list_train_avg_loss)+1),list_train_loss_cada_ej,c='lightgreen')\n",
        "#plt.plot(range(1,len(list_valid_loss_cada_ej_RASH64)+1),list_valid_loss_cada_ej_RASH64,c='lightgreen')#,lw=0.5)\n",
        "\n",
        "\n",
        "#plt.plot(range(1,len(list_train_avg_loss_incorrecta)+1),list_train_avg_loss_incorrecta,label=\"train-incorr\",linestyle='-',c='red')\n",
        "\n",
        "plt.plot(range(1,len(list_valid_avg_loss_RASH64)+1),list_valid_avg_loss_RASH64,label=\"valid\",linestyle='-',c='blue')\n",
        "plt.plot(range(1,len(list_train_avg_loss_RASH64)+1),list_train_avg_loss_RASH64,label=\"train\",linestyle='--',c='darkorange')\n",
        "\n",
        "#plt.xlim(0,100)\n",
        "\n",
        "plt.title('')\n",
        "plt.legend()"
      ],
      "metadata": {
        "colab": {
          "base_uri": "https://localhost:8080/",
          "height": 467
        },
        "id": "9GyUSANZE5Lr",
        "outputId": "5eb2c390-6448-4040-f01f-34f5775fbc9f"
      },
      "execution_count": null,
      "outputs": [
        {
          "output_type": "execute_result",
          "data": {
            "text/plain": [
              "<matplotlib.legend.Legend at 0x7eb0e07d2800>"
            ]
          },
          "metadata": {},
          "execution_count": 34
        },
        {
          "output_type": "display_data",
          "data": {
            "text/plain": [
              "<Figure size 640x480 with 1 Axes>"
            ],
            "image/png": "[encoded data removed]"
          },
          "metadata": {}
        }
      ]
    },
    {
      "cell_type": "markdown",
      "source": [
        "## grafico imagenes originales vs predichas"
      ],
      "metadata": {
        "id": "oBUm1ynQpPB-"
      }
    },
    {
      "cell_type": "code",
      "source": [
        "# Load the general checkpoint\n",
        "# Remember to first initialize the model and optimizer, then load the dictionary locally.\n",
        "\n",
        "n=64\n",
        "\n",
        "model =  autoEncoder(n)\n",
        "\n",
        "learning_rate = 1e-3 # necesario para definir\n",
        "optimizer = torch.optim.Adam(model.parameters(),lr=learning_rate,eps=1e-08,weight_decay=0,amsgrad=False)\n",
        "\n",
        "PATH = '/content/drive/MyDrive/archivos-redes/trabajo-3/modelo_RASH64_ADAM_50epoch.pt'\n",
        "\n",
        "checkpoint = torch.load(PATH)\n",
        "model.load_state_dict(checkpoint['model_state_dict'])\n",
        "optimizer.load_state_dict(checkpoint['optimizer_state_dict'])\n",
        "epoch = checkpoint['epoch']\n",
        "loss = checkpoint['loss']\n",
        "\n",
        "#model.eval()        #You must call model.eval() to set dropout and batch normalization layers to evaluation mode before running inference. Failing to do this will yield inconsistent inference results.\n",
        "# - or -\n",
        "#model.train()       #If you wish to resuming training, call model.train() to ensure these layers are in training mode."
      ],
      "metadata": {
        "id": "FCC68OTbI0MC"
      },
      "execution_count": null,
      "outputs": []
    },
    {
      "cell_type": "code",
      "source": [
        "model = model.to('cpu')\n",
        "\n",
        "figure = plt.figure()\n",
        "rows, cols = 3,2\n",
        "i = 0 #subplot index\n",
        "\n",
        "model.eval()\n",
        "\n",
        "for row in range(1,rows+1):\n",
        "  j = torch.randint(len(train_set),size=(1,)).item()\n",
        "  #graficamos imagen sin entrenar\n",
        "  i += 1\n",
        "  image,_ = train_set[j]\n",
        "  figure.add_subplot(rows,cols,i)\n",
        "  if row == 1:\n",
        "    plt.title('original')\n",
        "  plt.axis('off')\n",
        "  plt.imshow(unbatch(image),cmap='Greys_r')\n",
        "  #ploteamos imagen predicha\n",
        "  i += 1\n",
        "  figure.add_subplot(rows,cols,i)\n",
        "  if row == 1:\n",
        "    plt.title('predicha')\n",
        "  plt.axis('off')\n",
        "  image_pred = unbatch(model(batch(image)))\n",
        "  plt.imshow(image_pred,cmap='Greys_r')\n",
        "\n",
        "#plt.savefig(\"/content/drive/MyDrive/archivos-redes/trabajo-final/Grafico_prediccion_autoencoder_RASH64_ADAM_50epoch_5.png\", dpi =300)\n",
        "\n",
        "plt.show()"
      ],
      "metadata": {
        "colab": {
          "base_uri": "https://localhost:8080/",
          "height": 428
        },
        "id": "ndAQfCSkpbTd",
        "outputId": "d56e1a20-11aa-430e-e4d2-7baffb3a5940"
      },
      "execution_count": null,
      "outputs": [
        {
          "output_type": "display_data",
          "data": {
            "text/plain": [
              "<Figure size 640x480 with 6 Axes>"
            ],
            "image/png": "[encoded data removed]"
          },
          "metadata": {}
        }
      ]
    },
    {
      "cell_type": "code",
      "source": [
        "n=128\n",
        "\n",
        "#model = Autoencoder_conv(n)\n",
        "model = autoEncoder()\n",
        "model = model.to(device)\n",
        "\n",
        "print(model,device)"
      ],
      "metadata": {
        "colab": {
          "base_uri": "https://localhost:8080/"
        },
        "id": "Q69uL6LeJGMm",
        "outputId": "6001f421-0bab-4c8e-d3f9-07e2f92a0d40"
      },
      "execution_count": null,
      "outputs": [
        {
          "output_type": "stream",
          "name": "stdout",
          "text": [
            "autoEncoder(\n",
            "  (conv): Sequential(\n",
            "    (0): Conv2d(1, 32, kernel_size=(3, 3), stride=(1, 1), padding=(1, 1))\n",
            "    (1): LeakyReLU(negative_slope=0.01)\n",
            "    (2): Conv2d(32, 64, kernel_size=(3, 3), stride=(2, 2), padding=(1, 1))\n",
            "    (3): LeakyReLU(negative_slope=0.01)\n",
            "    (4): Conv2d(64, 64, kernel_size=(3, 3), stride=(2, 2), padding=(1, 1))\n",
            "    (5): LeakyReLU(negative_slope=0.01)\n",
            "    (6): Conv2d(64, 64, kernel_size=(3, 3), stride=(1, 1), padding=(1, 1))\n",
            "    (7): Flatten(start_dim=1, end_dim=-1)\n",
            "    (8): Linear(in_features=3136, out_features=64, bias=True)\n",
            "  )\n",
            "  (convTrans): Sequential(\n",
            "    (0): Linear(in_features=64, out_features=3136, bias=True)\n",
            "    (1): Reshape()\n",
            "    (2): ConvTranspose2d(64, 64, kernel_size=(3, 3), stride=(1, 1), padding=(1, 1))\n",
            "    (3): LeakyReLU(negative_slope=0.01)\n",
            "    (4): ConvTranspose2d(64, 64, kernel_size=(3, 3), stride=(2, 2), padding=(1, 1))\n",
            "    (5): LeakyReLU(negative_slope=0.01)\n",
            "    (6): ConvTranspose2d(64, 32, kernel_size=(3, 3), stride=(2, 2))\n",
            "    (7): LeakyReLU(negative_slope=0.01)\n",
            "    (8): ConvTranspose2d(32, 1, kernel_size=(3, 3), stride=(1, 1))\n",
            "    (9): Trim()\n",
            "    (10): Sigmoid()\n",
            "  )\n",
            ") cuda\n"
          ]
        }
      ]
    },
    {
      "cell_type": "code",
      "source": [
        "# Creamos un optimizador, un Stochastic Gradient Descent, en este caso.\n",
        "learning_rate = 1e-3 # necesario para definir\n",
        "#optimizer = torch.optim.SGD(model.parameters(),lr=learning_rate)\n",
        "optimizer = torch.optim.Adam(model.parameters(),lr=learning_rate,eps=1e-08,weight_decay=0,amsgrad=False)"
      ],
      "metadata": {
        "id": "JrxfS9RrJKps"
      },
      "execution_count": null,
      "outputs": []
    },
    {
      "cell_type": "code",
      "source": [
        "# Finalmente, entrenamos iterando sobre épocas.\n",
        "# Además, testeamos el modelo en cada una de ellas.\n",
        "\n",
        "num_epochs = 40\n",
        "\n",
        "list_train_avg_loss_incorrecta_64 = []\n",
        "list_train_avg_loss_64 = []\n",
        "list_valid_avg_loss_64 = []\n",
        "#list_train_precision_incorrecta = []\n",
        "#list_train_precision = []\n",
        "#list_valid_precision = []\n",
        "\n",
        "list_train_loss_incorrecta_cada_ej_64 = []\n",
        "list_train_loss_cada_ej_64 = []\n",
        "list_valid_loss_cada_ej_64 = []\n",
        "\n",
        "for epoch in range(num_epochs):\n",
        "    print(f\"Epoch {epoch+1}\\n-------------------------------\")\n",
        "    train_avg_loss_incorrecta_64,train_loss_incorrecta_cada_ej_64 = train_loop(train_loader,model,loss_fn,optimizer)\n",
        "    train_avg_loss_64,train_loss_cada_ej_64 = valid_loop(train_loader,model,loss_fn)\n",
        "    valid_avg_loss_64,valid_loss_cada_ej_64 = valid_loop(valid_loader,model,loss_fn)\n",
        "\n",
        "    list_train_avg_loss_incorrecta_64.append(train_avg_loss_incorrecta_64)\n",
        "    list_train_avg_loss_64.append(train_avg_loss_64)\n",
        "    list_valid_avg_loss_64.append(valid_avg_loss_64)\n",
        "\n",
        "    list_train_loss_incorrecta_cada_ej_64.append(train_loss_incorrecta_cada_ej_64)\n",
        "    list_train_loss_cada_ej_64.append(train_loss_cada_ej_64)\n",
        "    list_valid_loss_cada_ej_64.append(valid_loss_cada_ej_64)\n",
        "\n",
        "print(\"Done!\")"
      ],
      "metadata": {
        "colab": {
          "base_uri": "https://localhost:8080/"
        },
        "id": "1GtAnPx4C5sr",
        "outputId": "c4c28da7-81b9-48e9-d493-8861125143b7"
      },
      "execution_count": null,
      "outputs": [
        {
          "output_type": "stream",
          "name": "stdout",
          "text": [
            "Epoch 1\n",
            "-------------------------------\n",
            "avg_loss=0.011308\n",
            "avg_loss=0.011403\n",
            "Epoch 2\n",
            "-------------------------------\n",
            "avg_loss=0.008244\n",
            "avg_loss=0.008352\n",
            "Epoch 3\n",
            "-------------------------------\n",
            "avg_loss=0.006925\n",
            "avg_loss=0.007039\n",
            "Epoch 4\n",
            "-------------------------------\n",
            "avg_loss=0.006141\n",
            "avg_loss=0.006256\n",
            "Epoch 5\n",
            "-------------------------------\n",
            "avg_loss=0.005581\n",
            "avg_loss=0.005708\n",
            "Epoch 6\n",
            "-------------------------------\n",
            "avg_loss=0.005259\n",
            "avg_loss=0.005394\n",
            "Epoch 7\n",
            "-------------------------------\n",
            "avg_loss=0.005051\n",
            "avg_loss=0.005198\n",
            "Epoch 8\n",
            "-------------------------------\n",
            "avg_loss=0.004932\n",
            "avg_loss=0.005091\n",
            "Epoch 9\n",
            "-------------------------------\n",
            "avg_loss=0.004783\n",
            "avg_loss=0.004957\n",
            "Epoch 10\n",
            "-------------------------------\n",
            "avg_loss=0.004687\n",
            "avg_loss=0.004870\n",
            "Epoch 11\n",
            "-------------------------------\n",
            "avg_loss=0.004753\n",
            "avg_loss=0.004946\n",
            "Epoch 12\n",
            "-------------------------------\n",
            "avg_loss=0.004575\n",
            "avg_loss=0.004780\n",
            "Epoch 13\n",
            "-------------------------------\n",
            "avg_loss=0.004576\n",
            "avg_loss=0.004791\n",
            "Epoch 14\n",
            "-------------------------------\n",
            "avg_loss=0.004423\n",
            "avg_loss=0.004646\n",
            "Epoch 15\n",
            "-------------------------------\n",
            "avg_loss=0.004458\n",
            "avg_loss=0.004693\n",
            "Epoch 16\n",
            "-------------------------------\n",
            "avg_loss=0.004335\n",
            "avg_loss=0.004583\n",
            "Epoch 17\n",
            "-------------------------------\n",
            "avg_loss=0.004286\n",
            "avg_loss=0.004541\n",
            "Epoch 18\n",
            "-------------------------------\n",
            "avg_loss=0.004284\n",
            "avg_loss=0.004550\n",
            "Epoch 19\n",
            "-------------------------------\n",
            "avg_loss=0.004239\n",
            "avg_loss=0.004514\n",
            "Epoch 20\n",
            "-------------------------------\n",
            "avg_loss=0.004188\n",
            "avg_loss=0.004467\n",
            "Epoch 21\n",
            "-------------------------------\n",
            "avg_loss=0.004213\n",
            "avg_loss=0.004503\n",
            "Epoch 22\n",
            "-------------------------------\n",
            "avg_loss=0.004167\n",
            "avg_loss=0.004464\n",
            "Epoch 23\n",
            "-------------------------------\n",
            "avg_loss=0.004231\n",
            "avg_loss=0.004543\n",
            "Epoch 24\n",
            "-------------------------------\n",
            "avg_loss=0.004087\n",
            "avg_loss=0.004401\n",
            "Epoch 25\n",
            "-------------------------------\n",
            "avg_loss=0.004126\n",
            "avg_loss=0.004449\n",
            "Epoch 26\n",
            "-------------------------------\n",
            "avg_loss=0.004065\n",
            "avg_loss=0.004394\n",
            "Epoch 27\n",
            "-------------------------------\n",
            "avg_loss=0.004051\n",
            "avg_loss=0.004389\n",
            "Epoch 28\n",
            "-------------------------------\n",
            "avg_loss=0.003996\n",
            "avg_loss=0.004346\n",
            "Epoch 29\n",
            "-------------------------------\n",
            "avg_loss=0.004034\n",
            "avg_loss=0.004385\n",
            "Epoch 30\n",
            "-------------------------------\n",
            "avg_loss=0.004007\n",
            "avg_loss=0.004362\n",
            "Epoch 31\n",
            "-------------------------------\n",
            "avg_loss=0.004023\n",
            "avg_loss=0.004388\n",
            "Epoch 32\n",
            "-------------------------------\n",
            "avg_loss=0.003939\n",
            "avg_loss=0.004318\n",
            "Epoch 33\n",
            "-------------------------------\n",
            "avg_loss=0.003938\n",
            "avg_loss=0.004317\n",
            "Epoch 34\n",
            "-------------------------------\n",
            "avg_loss=0.003882\n",
            "avg_loss=0.004266\n",
            "Epoch 35\n",
            "-------------------------------\n",
            "avg_loss=0.003908\n",
            "avg_loss=0.004306\n",
            "Epoch 36\n",
            "-------------------------------\n",
            "avg_loss=0.003896\n",
            "avg_loss=0.004296\n",
            "Epoch 37\n",
            "-------------------------------\n",
            "avg_loss=0.003877\n",
            "avg_loss=0.004277\n",
            "Epoch 38\n",
            "-------------------------------\n",
            "avg_loss=0.003851\n",
            "avg_loss=0.004264\n",
            "Epoch 39\n",
            "-------------------------------\n",
            "avg_loss=0.003891\n",
            "avg_loss=0.004313\n",
            "Epoch 40\n",
            "-------------------------------\n",
            "avg_loss=0.003817\n",
            "avg_loss=0.004236\n",
            "Done!\n"
          ]
        }
      ]
    },
    {
      "cell_type": "markdown",
      "source": [
        "# CLASIFICADORES"
      ],
      "metadata": {
        "id": "c1LScC4pMBxi"
      }
    },
    {
      "cell_type": "code",
      "source": [
        "labels_names = {\n",
        "    0: \"T-Shirt\",    # Remera manga corta\n",
        "    1: \"Trouser\",    # Pantalon\n",
        "    2: \"Pullover\",   # Buzo\n",
        "    3: \"Dress\",      # Vestido\n",
        "    4: \"Coat\",       # Abrigo\n",
        "    5: \"Sandal\",     # Sandalia\n",
        "    6: \"Shirt\",      # Remera manga larga\n",
        "    7: \"Sneaker\",    # Zapatilla\n",
        "    8: \"Bag\",        # Bolso\n",
        "    9: \"Ankle Boot\", # Bota\n",
        "}"
      ],
      "metadata": {
        "id": "2NIDZJ7Kf0uK"
      },
      "execution_count": null,
      "outputs": []
    },
    {
      "cell_type": "code",
      "source": [
        "class Clasificador_Conv1(nn.Module):\n",
        "  def __init__(self,autoencoder_conv,n=64,p=0.2):\n",
        "    super().__init__()\n",
        "    self.n = 128\n",
        "    self.p = 0.2\n",
        "    self.encoder = autoencoder_conv.encoder\n",
        "\n",
        "    #clasificador\n",
        "    self.clasificador = nn.Sequential(\n",
        "        nn.Linear(self.n,10),\n",
        "        nn.ReLU(),\n",
        "        nn.Dropout(self.p)\n",
        "        )\n",
        "\n",
        "  def forward(self,x):\n",
        "    x = self.encoder(x)\n",
        "    x = self.clasificador(x)\n",
        "    return x"
      ],
      "metadata": {
        "id": "cGLhuU6aiijM"
      },
      "execution_count": null,
      "outputs": []
    },
    {
      "cell_type": "code",
      "source": [
        "class Clasificador_ConvRASH(nn.Module):\n",
        "  def __init__(self,autoencoder_conv,n=64,p=0.2):\n",
        "    super().__init__()\n",
        "    self.n = 128\n",
        "    #self.p = autoencoder_conv.p\n",
        "    self.encoder = autoencoder_conv.conv\n",
        "\n",
        "    #clasificador\n",
        "    self.clasificador = nn.Sequential(\n",
        "        nn.Linear(self.n,10),\n",
        "        nn.ReLU(),\n",
        "        nn.Dropout(self.p)\n",
        "        )\n",
        "\n",
        "  def forward(self,x):\n",
        "    x = self.encoder(x)\n",
        "    x = self.clasificador(x)\n",
        "    return x"
      ],
      "metadata": {
        "id": "ZomGZDgJlxLx"
      },
      "execution_count": null,
      "outputs": []
    },
    {
      "cell_type": "code",
      "source": [
        "# Definimos la función de entrenamiento\n",
        "def train_loop2(dataloader,model,loss_fn,optimizer):\n",
        "    # Activamos la maquinaria de entrenamiento del modelo\n",
        "    model.train()\n",
        "    # Definimos ciertas constantes\n",
        "    size = len(dataloader.dataset)\n",
        "    num_batches = len(dataloader)\n",
        "    sum_loss,sum_correct = 0,0\n",
        "    # Iteramos sobre lotes (batchs)\n",
        "    for batch, (X, y) in enumerate(dataloader):\n",
        "        # Copiamos las entradas y las salidas al dispositivo de trabajo\n",
        "        X = X.to(device)\n",
        "        y = y.to(device)\n",
        "        # Calculamos la predicción del modelo y la correspondiente pérdida (error)\n",
        "        pred = model(X)\n",
        "        loss = loss_fn(pred,y)\n",
        "        # Backpropagamos usando el optimizador proveido.\n",
        "        optimizer.zero_grad()\n",
        "        loss.backward()\n",
        "        optimizer.step()\n",
        "        # Imprimimos el progreso...\n",
        "        loss_value = loss.item()\n",
        "        sum_loss += loss_value\n",
        "        # También calculamos el número de predicciones correctas, y lo acumulamos en un total.\n",
        "        sum_correct += (pred.argmax(1) == y).type(torch.float).sum().item()\n",
        "        if batch % 100 == 0:\n",
        "            current = batch*len(X)\n",
        "            print(f\"@train_loop batch={batch:>5d} loss={loss_value:>7f}  muestras-procesadas=[{current:>5d}/{size:>5d}]\")\n",
        "    avg_loss = sum_loss/num_batches\n",
        "    precision = sum_correct/size\n",
        "    return avg_loss,precision\n",
        "\n",
        "# 5.2)\n",
        "# De manera similar, definimos la función de validación\n",
        "def valid_loop2(dataloader,model,loss_fn):\n",
        "    # Desactivamos la maquinaria de entrenamiento del modelo\n",
        "    model.eval()\n",
        "    # Definimos ciertas constantes\n",
        "    size = len(dataloader.dataset)\n",
        "    num_batches = len(dataloader)\n",
        "    sum_loss,sum_correct = 0,0\n",
        "    # Para testear, desactivamos el cálculo de gradientes.\n",
        "    with torch.no_grad():\n",
        "        # Iteramos sobre lotes (batches)\n",
        "        for X,y in dataloader:\n",
        "            # Copiamos las entradas y las salidas al dispositivo de trabajo\n",
        "            X = X.to(device)\n",
        "            y = y.to(device)\n",
        "            # Calculamos las predicciones del modelo...\n",
        "            pred = model(X)\n",
        "            # y las correspondientes pérdidas (errores), los cuales vamos acumulando en un valor total.\n",
        "            sum_loss += loss_fn(pred,y).item()\n",
        "            # También calculamos el número de predicciones correctas, y lo acumulamos en un total.\n",
        "            sum_correct += (pred.argmax(1) == y).type(torch.float).sum().item()\n",
        "    # Calculamos la pérdida total y la fracción de clasificaciones correctas, y las imprimimos.\n",
        "    avg_loss = sum_loss/num_batches\n",
        "    precision = sum_correct/size\n",
        "    print(f\"@valid_loop precision={(100*precision):>0.1f}% avg_loss={avg_loss:>8f}\")\n",
        "    return avg_loss,precision"
      ],
      "metadata": {
        "id": "tPrw0o2bhWLU"
      },
      "execution_count": null,
      "outputs": []
    },
    {
      "cell_type": "code",
      "source": [
        "# Creamos los DataLoaders\n",
        "minibatch_size = 100    #tamaño minibatchs\n",
        "train_loader_clasif = DataLoader(training_data_original, batch_size=minibatch_size,shuffle=True)\n",
        "valid_loader_clasif = DataLoader(test_data_original, batch_size=minibatch_size,shuffle=True)"
      ],
      "metadata": {
        "id": "H0ZU_qrguFOo"
      },
      "execution_count": null,
      "outputs": []
    },
    {
      "cell_type": "code",
      "source": [
        "len(train_loader_clasif), len(valid_loader_clasif) #el primero tiene 50 minibatchs de 1000 ejemplos, el segundo 10 minibatchs de 1000 ejemplos"
      ],
      "metadata": {
        "colab": {
          "base_uri": "https://localhost:8080/"
        },
        "outputId": "cbc088a8-b799-4def-9ce1-e6f2081a37c0",
        "id": "DeHXEAgjuFOo"
      },
      "execution_count": null,
      "outputs": [
        {
          "output_type": "execute_result",
          "data": {
            "text/plain": [
              "(600, 100)"
            ]
          },
          "metadata": {},
          "execution_count": 68
        }
      ]
    },
    {
      "cell_type": "code",
      "source": [
        "len(train_loader_clasif.dataset)"
      ],
      "metadata": {
        "colab": {
          "base_uri": "https://localhost:8080/"
        },
        "outputId": "fa0d7af1-ae04-4e5b-c828-68e72a9e9a0b",
        "id": "ZMEdfnCyuFOo"
      },
      "execution_count": null,
      "outputs": [
        {
          "output_type": "execute_result",
          "data": {
            "text/plain": [
              "60000"
            ]
          },
          "metadata": {},
          "execution_count": 69
        }
      ]
    },
    {
      "cell_type": "code",
      "source": [
        "# Creamos una instancia de una función de pérdida, (Mean Squared Error, MSE) en PyTorch, puedes utilizar la clase nn.MSELoss.\n",
        "\n",
        "loss_fn = nn.MSELoss()"
      ],
      "metadata": {
        "id": "0kblzglKuFOp"
      },
      "execution_count": null,
      "outputs": []
    },
    {
      "cell_type": "markdown",
      "source": [
        "# ---entrenamos clasificador juan"
      ],
      "metadata": {
        "id": "qripqdHkuW7B"
      }
    },
    {
      "cell_type": "code",
      "source": [
        "# Load the general checkpoint\n",
        "# Remember to first initialize the model and optimizer, then load the dictionary locally.\n",
        "\n",
        "n=64\n",
        "\n",
        "model =  autoEncoder(n)\n",
        "\n",
        "learning_rate = 1e-3 # necesario para definir\n",
        "optimizer = torch.optim.Adam(model.parameters(),lr=learning_rate,eps=1e-08,weight_decay=0,amsgrad=False)\n",
        "\n",
        "PATH = '/content/drive/MyDrive/archivos-redes/trabajo-final/modelo_RASH64_ADAM_50epoch.pt'\n",
        "\n",
        "checkpoint = torch.load(PATH)\n",
        "model.load_state_dict(checkpoint['model_state_dict'])\n",
        "optimizer.load_state_dict(checkpoint['optimizer_state_dict'])\n",
        "epoch = checkpoint['epoch']\n",
        "loss = checkpoint['loss']\n",
        "\n",
        "#model.eval()        #You must call model.eval() to set dropout and batch normalization layers to evaluation mode before running inference. Failing to do this will yield inconsistent inference results.\n",
        "# - or -\n",
        "#model.train()       #If you wish to resuming training, call model.train() to ensure these layers are in training mode.\n",
        "\n",
        "model = model.to(device)"
      ],
      "metadata": {
        "id": "GEBI_Oxwa8cA"
      },
      "execution_count": null,
      "outputs": []
    },
    {
      "cell_type": "code",
      "source": [
        "Clasificador_Conv1"
      ],
      "metadata": {
        "id": "24NsTo09a8Yg"
      },
      "execution_count": null,
      "outputs": []
    },
    {
      "cell_type": "code",
      "source": [],
      "metadata": {
        "id": "EgHOzi5ma8fw"
      },
      "execution_count": null,
      "outputs": []
    },
    {
      "cell_type": "markdown",
      "source": [
        "# --- entrenamos clasif rashka"
      ],
      "metadata": {
        "id": "tCusvBMra3SM"
      }
    },
    {
      "cell_type": "code",
      "source": [
        "# Load the general checkpoint\n",
        "# Remember to first initialize the model and optimizer, then load the dictionary locally.\n",
        "\n",
        "n=128\n",
        "\n",
        "model =  autoEncoder(n)\n",
        "\n",
        "learning_rate = 1e-3 # necesario para definir\n",
        "optimizer = torch.optim.Adam(model.parameters(),lr=learning_rate,eps=1e-08,weight_decay=0,amsgrad=False)\n",
        "\n",
        "PATH = '/content/drive/MyDrive/archivos-redes/trabajo-final/modelo_RASH128_ADAM_50epoch.pt'\n",
        "\n",
        "checkpoint = torch.load(PATH)\n",
        "model.load_state_dict(checkpoint['model_state_dict'])\n",
        "optimizer.load_state_dict(checkpoint['optimizer_state_dict'])\n",
        "epoch = checkpoint['epoch']\n",
        "loss = checkpoint['loss']\n",
        "\n",
        "#model.eval()        #You must call model.eval() to set dropout and batch normalization layers to evaluation mode before running inference. Failing to do this will yield inconsistent inference results.\n",
        "# - or -\n",
        "#model.train()       #If you wish to resuming training, call model.train() to ensure these layers are in training mode.\n",
        "\n",
        "model = model.to(device)"
      ],
      "metadata": {
        "colab": {
          "base_uri": "https://localhost:8080/",
          "height": 427
        },
        "id": "YKjfhReUv-nE",
        "outputId": "e4662797-be8d-4653-e92e-1a994d7c8588"
      },
      "execution_count": null,
      "outputs": [
        {
          "output_type": "error",
          "ename": "RuntimeError",
          "evalue": "ignored",
          "traceback": [
            "\u001b[0;31m---------------------------------------------------------------------------\u001b[0m",
            "\u001b[0;31mRuntimeError\u001b[0m                              Traceback (most recent call last)",
            "\u001b[0;32m<ipython-input-71-457a33cb2217>\u001b[0m in \u001b[0;36m<cell line: 13>\u001b[0;34m()\u001b[0m\n\u001b[1;32m     11\u001b[0m \u001b[0mPATH\u001b[0m \u001b[0;34m=\u001b[0m \u001b[0;34m'/content/drive/MyDrive/archivos-redes/trabajo-final/modelo_RASH128_ADAM_50epoch.pt'\u001b[0m\u001b[0;34m\u001b[0m\u001b[0;34m\u001b[0m\u001b[0m\n\u001b[1;32m     12\u001b[0m \u001b[0;34m\u001b[0m\u001b[0m\n\u001b[0;32m---> 13\u001b[0;31m \u001b[0mcheckpoint\u001b[0m \u001b[0;34m=\u001b[0m \u001b[0mtorch\u001b[0m\u001b[0;34m.\u001b[0m\u001b[0mload\u001b[0m\u001b[0;34m(\u001b[0m\u001b[0mPATH\u001b[0m\u001b[0;34m)\u001b[0m\u001b[0;34m\u001b[0m\u001b[0;34m\u001b[0m\u001b[0m\n\u001b[0m\u001b[1;32m     14\u001b[0m \u001b[0mmodel\u001b[0m\u001b[0;34m.\u001b[0m\u001b[0mload_state_dict\u001b[0m\u001b[0;34m(\u001b[0m\u001b[0mcheckpoint\u001b[0m\u001b[0;34m[\u001b[0m\u001b[0;34m'model_state_dict'\u001b[0m\u001b[0;34m]\u001b[0m\u001b[0;34m)\u001b[0m\u001b[0;34m\u001b[0m\u001b[0;34m\u001b[0m\u001b[0m\n\u001b[1;32m     15\u001b[0m \u001b[0moptimizer\u001b[0m\u001b[0;34m.\u001b[0m\u001b[0mload_state_dict\u001b[0m\u001b[0;34m(\u001b[0m\u001b[0mcheckpoint\u001b[0m\u001b[0;34m[\u001b[0m\u001b[0;34m'optimizer_state_dict'\u001b[0m\u001b[0;34m]\u001b[0m\u001b[0;34m)\u001b[0m\u001b[0;34m\u001b[0m\u001b[0;34m\u001b[0m\u001b[0m\n",
            "\u001b[0;32m/usr/local/lib/python3.10/dist-packages/torch/serialization.py\u001b[0m in \u001b[0;36mload\u001b[0;34m(f, map_location, pickle_module, weights_only, mmap, **pickle_load_args)\u001b[0m\n\u001b[1;32m   1012\u001b[0m                     \u001b[0;32mexcept\u001b[0m \u001b[0mRuntimeError\u001b[0m \u001b[0;32mas\u001b[0m \u001b[0me\u001b[0m\u001b[0;34m:\u001b[0m\u001b[0;34m\u001b[0m\u001b[0;34m\u001b[0m\u001b[0m\n\u001b[1;32m   1013\u001b[0m                         \u001b[0;32mraise\u001b[0m \u001b[0mpickle\u001b[0m\u001b[0;34m.\u001b[0m\u001b[0mUnpicklingError\u001b[0m\u001b[0;34m(\u001b[0m\u001b[0mUNSAFE_MESSAGE\u001b[0m \u001b[0;34m+\u001b[0m \u001b[0mstr\u001b[0m\u001b[0;34m(\u001b[0m\u001b[0me\u001b[0m\u001b[0;34m)\u001b[0m\u001b[0;34m)\u001b[0m \u001b[0;32mfrom\u001b[0m \u001b[0;32mNone\u001b[0m\u001b[0;34m\u001b[0m\u001b[0;34m\u001b[0m\u001b[0m\n\u001b[0;32m-> 1014\u001b[0;31m                 return _load(opened_zipfile,\n\u001b[0m\u001b[1;32m   1015\u001b[0m                              \u001b[0mmap_location\u001b[0m\u001b[0;34m,\u001b[0m\u001b[0;34m\u001b[0m\u001b[0;34m\u001b[0m\u001b[0m\n\u001b[1;32m   1016\u001b[0m                              \u001b[0mpickle_module\u001b[0m\u001b[0;34m,\u001b[0m\u001b[0;34m\u001b[0m\u001b[0;34m\u001b[0m\u001b[0m\n",
            "\u001b[0;32m/usr/local/lib/python3.10/dist-packages/torch/serialization.py\u001b[0m in \u001b[0;36m_load\u001b[0;34m(zip_file, map_location, pickle_module, pickle_file, overall_storage, **pickle_load_args)\u001b[0m\n\u001b[1;32m   1420\u001b[0m     \u001b[0munpickler\u001b[0m \u001b[0;34m=\u001b[0m \u001b[0mUnpicklerWrapper\u001b[0m\u001b[0;34m(\u001b[0m\u001b[0mdata_file\u001b[0m\u001b[0;34m,\u001b[0m \u001b[0;34m**\u001b[0m\u001b[0mpickle_load_args\u001b[0m\u001b[0;34m)\u001b[0m\u001b[0;34m\u001b[0m\u001b[0;34m\u001b[0m\u001b[0m\n\u001b[1;32m   1421\u001b[0m     \u001b[0munpickler\u001b[0m\u001b[0;34m.\u001b[0m\u001b[0mpersistent_load\u001b[0m \u001b[0;34m=\u001b[0m \u001b[0mpersistent_load\u001b[0m\u001b[0;34m\u001b[0m\u001b[0;34m\u001b[0m\u001b[0m\n\u001b[0;32m-> 1422\u001b[0;31m     \u001b[0mresult\u001b[0m \u001b[0;34m=\u001b[0m \u001b[0munpickler\u001b[0m\u001b[0;34m.\u001b[0m\u001b[0mload\u001b[0m\u001b[0;34m(\u001b[0m\u001b[0;34m)\u001b[0m\u001b[0;34m\u001b[0m\u001b[0;34m\u001b[0m\u001b[0m\n\u001b[0m\u001b[1;32m   1423\u001b[0m \u001b[0;34m\u001b[0m\u001b[0m\n\u001b[1;32m   1424\u001b[0m     \u001b[0mtorch\u001b[0m\u001b[0;34m.\u001b[0m\u001b[0m_utils\u001b[0m\u001b[0;34m.\u001b[0m\u001b[0m_validate_loaded_sparse_tensors\u001b[0m\u001b[0;34m(\u001b[0m\u001b[0;34m)\u001b[0m\u001b[0;34m\u001b[0m\u001b[0;34m\u001b[0m\u001b[0m\n",
            "\u001b[0;32m/usr/local/lib/python3.10/dist-packages/torch/serialization.py\u001b[0m in \u001b[0;36mpersistent_load\u001b[0;34m(saved_id)\u001b[0m\n\u001b[1;32m   1390\u001b[0m         \u001b[0;32melse\u001b[0m\u001b[0;34m:\u001b[0m\u001b[0;34m\u001b[0m\u001b[0;34m\u001b[0m\u001b[0m\n\u001b[1;32m   1391\u001b[0m             \u001b[0mnbytes\u001b[0m \u001b[0;34m=\u001b[0m \u001b[0mnumel\u001b[0m \u001b[0;34m*\u001b[0m \u001b[0mtorch\u001b[0m\u001b[0;34m.\u001b[0m\u001b[0m_utils\u001b[0m\u001b[0;34m.\u001b[0m\u001b[0m_element_size\u001b[0m\u001b[0;34m(\u001b[0m\u001b[0mdtype\u001b[0m\u001b[0;34m)\u001b[0m\u001b[0;34m\u001b[0m\u001b[0;34m\u001b[0m\u001b[0m\n\u001b[0;32m-> 1392\u001b[0;31m             \u001b[0mtyped_storage\u001b[0m \u001b[0;34m=\u001b[0m \u001b[0mload_tensor\u001b[0m\u001b[0;34m(\u001b[0m\u001b[0mdtype\u001b[0m\u001b[0;34m,\u001b[0m \u001b[0mnbytes\u001b[0m\u001b[0;34m,\u001b[0m \u001b[0mkey\u001b[0m\u001b[0;34m,\u001b[0m \u001b[0m_maybe_decode_ascii\u001b[0m\u001b[0;34m(\u001b[0m\u001b[0mlocation\u001b[0m\u001b[0;34m)\u001b[0m\u001b[0;34m)\u001b[0m\u001b[0;34m\u001b[0m\u001b[0;34m\u001b[0m\u001b[0m\n\u001b[0m\u001b[1;32m   1393\u001b[0m \u001b[0;34m\u001b[0m\u001b[0m\n\u001b[1;32m   1394\u001b[0m         \u001b[0;32mreturn\u001b[0m \u001b[0mtyped_storage\u001b[0m\u001b[0;34m\u001b[0m\u001b[0;34m\u001b[0m\u001b[0m\n",
            "\u001b[0;32m/usr/local/lib/python3.10/dist-packages/torch/serialization.py\u001b[0m in \u001b[0;36mload_tensor\u001b[0;34m(dtype, numel, key, location)\u001b[0m\n\u001b[1;32m   1364\u001b[0m         \u001b[0;31m# stop wrapping with TypedStorage\u001b[0m\u001b[0;34m\u001b[0m\u001b[0;34m\u001b[0m\u001b[0m\n\u001b[1;32m   1365\u001b[0m         typed_storage = torch.storage.TypedStorage(\n\u001b[0;32m-> 1366\u001b[0;31m             \u001b[0mwrap_storage\u001b[0m\u001b[0;34m=\u001b[0m\u001b[0mrestore_location\u001b[0m\u001b[0;34m(\u001b[0m\u001b[0mstorage\u001b[0m\u001b[0;34m,\u001b[0m \u001b[0mlocation\u001b[0m\u001b[0;34m)\u001b[0m\u001b[0;34m,\u001b[0m\u001b[0;34m\u001b[0m\u001b[0;34m\u001b[0m\u001b[0m\n\u001b[0m\u001b[1;32m   1367\u001b[0m             \u001b[0mdtype\u001b[0m\u001b[0;34m=\u001b[0m\u001b[0mdtype\u001b[0m\u001b[0;34m,\u001b[0m\u001b[0;34m\u001b[0m\u001b[0;34m\u001b[0m\u001b[0m\n\u001b[1;32m   1368\u001b[0m             _internal=True)\n",
            "\u001b[0;32m/usr/local/lib/python3.10/dist-packages/torch/serialization.py\u001b[0m in \u001b[0;36mdefault_restore_location\u001b[0;34m(storage, location)\u001b[0m\n\u001b[1;32m    379\u001b[0m \u001b[0;32mdef\u001b[0m \u001b[0mdefault_restore_location\u001b[0m\u001b[0;34m(\u001b[0m\u001b[0mstorage\u001b[0m\u001b[0;34m,\u001b[0m \u001b[0mlocation\u001b[0m\u001b[0;34m)\u001b[0m\u001b[0;34m:\u001b[0m\u001b[0;34m\u001b[0m\u001b[0;34m\u001b[0m\u001b[0m\n\u001b[1;32m    380\u001b[0m     \u001b[0;32mfor\u001b[0m \u001b[0m_\u001b[0m\u001b[0;34m,\u001b[0m \u001b[0m_\u001b[0m\u001b[0;34m,\u001b[0m \u001b[0mfn\u001b[0m \u001b[0;32min\u001b[0m \u001b[0m_package_registry\u001b[0m\u001b[0;34m:\u001b[0m\u001b[0;34m\u001b[0m\u001b[0;34m\u001b[0m\u001b[0m\n\u001b[0;32m--> 381\u001b[0;31m         \u001b[0mresult\u001b[0m \u001b[0;34m=\u001b[0m \u001b[0mfn\u001b[0m\u001b[0;34m(\u001b[0m\u001b[0mstorage\u001b[0m\u001b[0;34m,\u001b[0m \u001b[0mlocation\u001b[0m\u001b[0;34m)\u001b[0m\u001b[0;34m\u001b[0m\u001b[0;34m\u001b[0m\u001b[0m\n\u001b[0m\u001b[1;32m    382\u001b[0m         \u001b[0;32mif\u001b[0m \u001b[0mresult\u001b[0m \u001b[0;32mis\u001b[0m \u001b[0;32mnot\u001b[0m \u001b[0;32mNone\u001b[0m\u001b[0;34m:\u001b[0m\u001b[0;34m\u001b[0m\u001b[0;34m\u001b[0m\u001b[0m\n\u001b[1;32m    383\u001b[0m             \u001b[0;32mreturn\u001b[0m \u001b[0mresult\u001b[0m\u001b[0;34m\u001b[0m\u001b[0;34m\u001b[0m\u001b[0m\n",
            "\u001b[0;32m/usr/local/lib/python3.10/dist-packages/torch/serialization.py\u001b[0m in \u001b[0;36m_cuda_deserialize\u001b[0;34m(obj, location)\u001b[0m\n\u001b[1;32m    272\u001b[0m \u001b[0;32mdef\u001b[0m \u001b[0m_cuda_deserialize\u001b[0m\u001b[0;34m(\u001b[0m\u001b[0mobj\u001b[0m\u001b[0;34m,\u001b[0m \u001b[0mlocation\u001b[0m\u001b[0;34m)\u001b[0m\u001b[0;34m:\u001b[0m\u001b[0;34m\u001b[0m\u001b[0;34m\u001b[0m\u001b[0m\n\u001b[1;32m    273\u001b[0m     \u001b[0;32mif\u001b[0m \u001b[0mlocation\u001b[0m\u001b[0;34m.\u001b[0m\u001b[0mstartswith\u001b[0m\u001b[0;34m(\u001b[0m\u001b[0;34m'cuda'\u001b[0m\u001b[0;34m)\u001b[0m\u001b[0;34m:\u001b[0m\u001b[0;34m\u001b[0m\u001b[0;34m\u001b[0m\u001b[0m\n\u001b[0;32m--> 274\u001b[0;31m         \u001b[0mdevice\u001b[0m \u001b[0;34m=\u001b[0m \u001b[0mvalidate_cuda_device\u001b[0m\u001b[0;34m(\u001b[0m\u001b[0mlocation\u001b[0m\u001b[0;34m)\u001b[0m\u001b[0;34m\u001b[0m\u001b[0;34m\u001b[0m\u001b[0m\n\u001b[0m\u001b[1;32m    275\u001b[0m         \u001b[0;32mif\u001b[0m \u001b[0mgetattr\u001b[0m\u001b[0;34m(\u001b[0m\u001b[0mobj\u001b[0m\u001b[0;34m,\u001b[0m \u001b[0;34m\"_torch_load_uninitialized\"\u001b[0m\u001b[0;34m,\u001b[0m \u001b[0;32mFalse\u001b[0m\u001b[0;34m)\u001b[0m\u001b[0;34m:\u001b[0m\u001b[0;34m\u001b[0m\u001b[0;34m\u001b[0m\u001b[0m\n\u001b[1;32m    276\u001b[0m             \u001b[0;32mwith\u001b[0m \u001b[0mtorch\u001b[0m\u001b[0;34m.\u001b[0m\u001b[0mcuda\u001b[0m\u001b[0;34m.\u001b[0m\u001b[0mdevice\u001b[0m\u001b[0;34m(\u001b[0m\u001b[0mdevice\u001b[0m\u001b[0;34m)\u001b[0m\u001b[0;34m:\u001b[0m\u001b[0;34m\u001b[0m\u001b[0;34m\u001b[0m\u001b[0m\n",
            "\u001b[0;32m/usr/local/lib/python3.10/dist-packages/torch/serialization.py\u001b[0m in \u001b[0;36mvalidate_cuda_device\u001b[0;34m(location)\u001b[0m\n\u001b[1;32m    256\u001b[0m \u001b[0;34m\u001b[0m\u001b[0m\n\u001b[1;32m    257\u001b[0m     \u001b[0;32mif\u001b[0m \u001b[0;32mnot\u001b[0m \u001b[0mtorch\u001b[0m\u001b[0;34m.\u001b[0m\u001b[0mcuda\u001b[0m\u001b[0;34m.\u001b[0m\u001b[0mis_available\u001b[0m\u001b[0;34m(\u001b[0m\u001b[0;34m)\u001b[0m\u001b[0;34m:\u001b[0m\u001b[0;34m\u001b[0m\u001b[0;34m\u001b[0m\u001b[0m\n\u001b[0;32m--> 258\u001b[0;31m         raise RuntimeError('Attempting to deserialize object on a CUDA '\n\u001b[0m\u001b[1;32m    259\u001b[0m                            \u001b[0;34m'device but torch.cuda.is_available() is False. '\u001b[0m\u001b[0;34m\u001b[0m\u001b[0;34m\u001b[0m\u001b[0m\n\u001b[1;32m    260\u001b[0m                            \u001b[0;34m'If you are running on a CPU-only machine, '\u001b[0m\u001b[0;34m\u001b[0m\u001b[0;34m\u001b[0m\u001b[0m\n",
            "\u001b[0;31mRuntimeError\u001b[0m: Attempting to deserialize object on a CUDA device but torch.cuda.is_available() is False. If you are running on a CPU-only machine, please use torch.load with map_location=torch.device('cpu') to map your storages to the CPU."
          ]
        }
      ]
    },
    {
      "cell_type": "code",
      "source": [
        "print(model)"
      ],
      "metadata": {
        "colab": {
          "base_uri": "https://localhost:8080/"
        },
        "id": "9-Or9g0W-7oj",
        "outputId": "90f5af35-add0-4ba0-f57e-40ab183fbd2e"
      },
      "execution_count": null,
      "outputs": [
        {
          "output_type": "stream",
          "name": "stdout",
          "text": [
            "autoEncoder(\n",
            "  (conv): Sequential(\n",
            "    (0): Conv2d(1, 32, kernel_size=(3, 3), stride=(1, 1), padding=(1, 1))\n",
            "    (1): LeakyReLU(negative_slope=0.01)\n",
            "    (2): Conv2d(32, 64, kernel_size=(3, 3), stride=(2, 2), padding=(1, 1))\n",
            "    (3): LeakyReLU(negative_slope=0.01)\n",
            "    (4): Conv2d(64, 64, kernel_size=(3, 3), stride=(2, 2), padding=(1, 1))\n",
            "    (5): LeakyReLU(negative_slope=0.01)\n",
            "    (6): Conv2d(64, 64, kernel_size=(3, 3), stride=(1, 1), padding=(1, 1))\n",
            "    (7): Flatten(start_dim=1, end_dim=-1)\n",
            "    (8): Linear(in_features=3136, out_features=64, bias=True)\n",
            "  )\n",
            "  (convTrans): Sequential(\n",
            "    (0): Linear(in_features=64, out_features=3136, bias=True)\n",
            "    (1): Reshape()\n",
            "    (2): ConvTranspose2d(64, 64, kernel_size=(3, 3), stride=(1, 1), padding=(1, 1))\n",
            "    (3): LeakyReLU(negative_slope=0.01)\n",
            "    (4): ConvTranspose2d(64, 64, kernel_size=(3, 3), stride=(2, 2), padding=(1, 1))\n",
            "    (5): LeakyReLU(negative_slope=0.01)\n",
            "    (6): ConvTranspose2d(64, 32, kernel_size=(3, 3), stride=(2, 2))\n",
            "    (7): LeakyReLU(negative_slope=0.01)\n",
            "    (8): ConvTranspose2d(32, 1, kernel_size=(3, 3), stride=(1, 1))\n",
            "    (9): Trim()\n",
            "    (10): Sigmoid()\n",
            "  )\n",
            ")\n"
          ]
        }
      ]
    },
    {
      "cell_type": "code",
      "source": [
        "n=64\n",
        "\n",
        "modelo = Clasificador_ConvRASH(autoencoder_conv=model)\n",
        "modelo = modelo.to(device)\n",
        "\n",
        "#print(modelo,device)"
      ],
      "metadata": {
        "colab": {
          "base_uri": "https://localhost:8080/",
          "height": 427
        },
        "id": "V_1KjQl3u0xO",
        "outputId": "0ea413ff-91c6-42d9-f698-44de969ad60d"
      },
      "execution_count": null,
      "outputs": [
        {
          "output_type": "error",
          "ename": "TypeError",
          "evalue": "ignored",
          "traceback": [
            "\u001b[0;31m---------------------------------------------------------------------------\u001b[0m",
            "\u001b[0;31mTypeError\u001b[0m                                 Traceback (most recent call last)",
            "\u001b[0;32m<ipython-input-45-580e94c30faa>\u001b[0m in \u001b[0;36m<cell line: 3>\u001b[0;34m()\u001b[0m\n\u001b[1;32m      1\u001b[0m \u001b[0mn\u001b[0m\u001b[0;34m=\u001b[0m\u001b[0;36m64\u001b[0m\u001b[0;34m\u001b[0m\u001b[0;34m\u001b[0m\u001b[0m\n\u001b[1;32m      2\u001b[0m \u001b[0;34m\u001b[0m\u001b[0m\n\u001b[0;32m----> 3\u001b[0;31m \u001b[0mmodelo\u001b[0m \u001b[0;34m=\u001b[0m \u001b[0mClasificador_ConvRASH\u001b[0m\u001b[0;34m(\u001b[0m\u001b[0mautoencoder_conv\u001b[0m\u001b[0;34m=\u001b[0m\u001b[0mmodel\u001b[0m\u001b[0;34m)\u001b[0m\u001b[0;34m\u001b[0m\u001b[0;34m\u001b[0m\u001b[0m\n\u001b[0m\u001b[1;32m      4\u001b[0m \u001b[0mmodelo\u001b[0m \u001b[0;34m=\u001b[0m \u001b[0mmodelo\u001b[0m\u001b[0;34m.\u001b[0m\u001b[0mto\u001b[0m\u001b[0;34m(\u001b[0m\u001b[0mdevice\u001b[0m\u001b[0;34m)\u001b[0m\u001b[0;34m\u001b[0m\u001b[0;34m\u001b[0m\u001b[0m\n\u001b[1;32m      5\u001b[0m \u001b[0;34m\u001b[0m\u001b[0m\n",
            "\u001b[0;32m<ipython-input-41-24e53334e47f>\u001b[0m in \u001b[0;36m__init__\u001b[0;34m(self, autoencoder_conv, n, p)\u001b[0m\n\u001b[1;32m      8\u001b[0m     \u001b[0;31m#clasificador\u001b[0m\u001b[0;34m\u001b[0m\u001b[0;34m\u001b[0m\u001b[0m\n\u001b[1;32m      9\u001b[0m     self.clasificador = nn.Sequential(\n\u001b[0;32m---> 10\u001b[0;31m         \u001b[0mnn\u001b[0m\u001b[0;34m.\u001b[0m\u001b[0mLinear\u001b[0m\u001b[0;34m(\u001b[0m\u001b[0mself\u001b[0m\u001b[0;34m,\u001b[0m\u001b[0mn\u001b[0m\u001b[0;34m,\u001b[0m\u001b[0;36m10\u001b[0m\u001b[0;34m)\u001b[0m\u001b[0;34m,\u001b[0m\u001b[0;34m\u001b[0m\u001b[0;34m\u001b[0m\u001b[0m\n\u001b[0m\u001b[1;32m     11\u001b[0m         \u001b[0mnn\u001b[0m\u001b[0;34m.\u001b[0m\u001b[0mReLU\u001b[0m\u001b[0;34m(\u001b[0m\u001b[0;34m)\u001b[0m\u001b[0;34m,\u001b[0m\u001b[0;34m\u001b[0m\u001b[0;34m\u001b[0m\u001b[0m\n\u001b[1;32m     12\u001b[0m         \u001b[0mnn\u001b[0m\u001b[0;34m.\u001b[0m\u001b[0mDropout\u001b[0m\u001b[0;34m(\u001b[0m\u001b[0mself\u001b[0m\u001b[0;34m.\u001b[0m\u001b[0mp\u001b[0m\u001b[0;34m)\u001b[0m\u001b[0;34m\u001b[0m\u001b[0;34m\u001b[0m\u001b[0m\n",
            "\u001b[0;32m/usr/local/lib/python3.10/dist-packages/torch/nn/modules/linear.py\u001b[0m in \u001b[0;36m__init__\u001b[0;34m(self, in_features, out_features, bias, device, dtype)\u001b[0m\n\u001b[1;32m     94\u001b[0m         \u001b[0mself\u001b[0m\u001b[0;34m.\u001b[0m\u001b[0min_features\u001b[0m \u001b[0;34m=\u001b[0m \u001b[0min_features\u001b[0m\u001b[0;34m\u001b[0m\u001b[0;34m\u001b[0m\u001b[0m\n\u001b[1;32m     95\u001b[0m         \u001b[0mself\u001b[0m\u001b[0;34m.\u001b[0m\u001b[0mout_features\u001b[0m \u001b[0;34m=\u001b[0m \u001b[0mout_features\u001b[0m\u001b[0;34m\u001b[0m\u001b[0;34m\u001b[0m\u001b[0m\n\u001b[0;32m---> 96\u001b[0;31m         \u001b[0mself\u001b[0m\u001b[0;34m.\u001b[0m\u001b[0mweight\u001b[0m \u001b[0;34m=\u001b[0m \u001b[0mParameter\u001b[0m\u001b[0;34m(\u001b[0m\u001b[0mtorch\u001b[0m\u001b[0;34m.\u001b[0m\u001b[0mempty\u001b[0m\u001b[0;34m(\u001b[0m\u001b[0;34m(\u001b[0m\u001b[0mout_features\u001b[0m\u001b[0;34m,\u001b[0m \u001b[0min_features\u001b[0m\u001b[0;34m)\u001b[0m\u001b[0;34m,\u001b[0m \u001b[0;34m**\u001b[0m\u001b[0mfactory_kwargs\u001b[0m\u001b[0;34m)\u001b[0m\u001b[0;34m)\u001b[0m\u001b[0;34m\u001b[0m\u001b[0;34m\u001b[0m\u001b[0m\n\u001b[0m\u001b[1;32m     97\u001b[0m         \u001b[0;32mif\u001b[0m \u001b[0mbias\u001b[0m\u001b[0;34m:\u001b[0m\u001b[0;34m\u001b[0m\u001b[0;34m\u001b[0m\u001b[0m\n\u001b[1;32m     98\u001b[0m             \u001b[0mself\u001b[0m\u001b[0;34m.\u001b[0m\u001b[0mbias\u001b[0m \u001b[0;34m=\u001b[0m \u001b[0mParameter\u001b[0m\u001b[0;34m(\u001b[0m\u001b[0mtorch\u001b[0m\u001b[0;34m.\u001b[0m\u001b[0mempty\u001b[0m\u001b[0;34m(\u001b[0m\u001b[0mout_features\u001b[0m\u001b[0;34m,\u001b[0m \u001b[0;34m**\u001b[0m\u001b[0mfactory_kwargs\u001b[0m\u001b[0;34m)\u001b[0m\u001b[0;34m)\u001b[0m\u001b[0;34m\u001b[0m\u001b[0;34m\u001b[0m\u001b[0m\n",
            "\u001b[0;31mTypeError\u001b[0m: empty(): argument 'size' failed to unpack the object at pos 2 with error \"type must be tuple of ints,but got Clasificador_ConvRASH\""
          ]
        }
      ]
    },
    {
      "cell_type": "code",
      "source": [
        "# Creamos un optimizador, un Stochastic Gradient Descent, en este caso.\n",
        "learning_rate = 1e-3 # necesario para definir\n",
        "#optimizer = torch.optim.SGD(model.parameters(),lr=learning_rate)\n",
        "optimizer = torch.optim.Adam(modelo.clasificador.parameters(),lr=learning_rate,eps=1e-08,weight_decay=0,amsgrad=False)"
      ],
      "metadata": {
        "id": "W_P1AImRu0xP"
      },
      "execution_count": null,
      "outputs": []
    },
    {
      "cell_type": "code",
      "source": [
        "# Finalmente, entrenamos iterando sobre épocas.\n",
        "# Además, testeamos el modelo en cada una de ellas.\n",
        "num_epochs = 50\n",
        "list_train_avg_loss_incorrecta = []\n",
        "list_train_avg_loss = []\n",
        "list_valid_avg_loss = []\n",
        "list_train_precision_incorrecta = []\n",
        "list_train_precision = []\n",
        "list_valid_precision = []\n",
        "for epoch in range(num_epochs):\n",
        "    print(f\"Epoch {epoch+1}\\n-------------------------------\")\n",
        "    train_avg_loss_incorrecta,train_precision_incorrecta = train_loop(train_loader,model,loss_fn,optimizer)\n",
        "    train_avg_loss,train_precision = valid_loop(train_loader,model,loss_fn)\n",
        "    valid_avg_loss,valid_precision = valid_loop(valid_loader,model,loss_fn)\n",
        "    list_train_avg_loss_incorrecta.append(train_avg_loss_incorrecta)\n",
        "    list_train_avg_loss.append(train_avg_loss)\n",
        "    list_valid_avg_loss.append(valid_avg_loss)\n",
        "    list_train_precision_incorrecta.append(train_precision_incorrecta)\n",
        "    list_train_precision.append(train_precision)\n",
        "    list_valid_precision.append(valid_precision)\n",
        "print(\"Done!\")"
      ],
      "metadata": {
        "id": "N6yBPvL9umR1"
      },
      "execution_count": null,
      "outputs": []
    },
    {
      "cell_type": "code",
      "source": [
        "plt.xlabel('epoch')\n",
        "plt.ylabel('loss')\n",
        "#plt.xlim(-0.1,5.1)\n",
        "#plt.ylim(-0.1,1.1)\n",
        "plt.plot(range(1,len(list_train_avg_loss_incorrecta)+1),list_train_avg_loss_incorrecta,label=\"train-incorr\",linestyle='-',c='red')\n",
        "plt.plot(range(1,len(list_train_avg_loss)+1),list_train_avg_loss,label=\"train\",linestyle='-.',c='green')\n",
        "plt.plot(range(1,len(list_valid_avg_loss)+1),list_valid_avg_loss,label=\"valid\",linestyle='--',c='blue')\n",
        "plt.title('')\n",
        "plt.legend()"
      ],
      "metadata": {
        "id": "sWCE2uHHwihz"
      },
      "execution_count": null,
      "outputs": []
    },
    {
      "cell_type": "code",
      "source": [
        "plt.xlabel('epoch')\n",
        "plt.ylabel('accuracy')\n",
        "#plt.xlim(-0.1,5.1)\n",
        "#plt.ylim(-0.1,1.1)\n",
        "plt.plot(range(1,len(list_train_precision_incorrecta)+1),list_train_precision_incorrecta,label=\"train-incorrecta\",linestyle='-',c='red')\n",
        "plt.plot(range(1,len(list_train_precision)+1),list_train_precision,label=\"train\",linestyle='-.',c='green')\n",
        "plt.plot(range(1,len(list_valid_precision)+1),list_valid_precision,label=\"valid\",linestyle='--',c='blue')\n",
        "plt.title('')\n",
        "plt.legend()"
      ],
      "metadata": {
        "id": "6-E8nTmeumVh"
      },
      "execution_count": null,
      "outputs": []
    },
    {
      "cell_type": "markdown",
      "source": [
        "# grafico todos los rashka juntos"
      ],
      "metadata": {
        "id": "wJnglAKMTo-4"
      }
    },
    {
      "cell_type": "code",
      "source": [
        "##\n",
        "list_train_avg_loss_incorrecta_RASH64 = np.load('/content/drive/MyDrive/archivos-redes/trabajo-final/list_train_avg_loss_incorrecta_RASH64_ADAM_50epoch.npy')\n",
        "list_train_avg_loss_RASH64 = np.load('/content/drive/MyDrive/archivos-redes/trabajo-final/list_train_avg_loss_RASH64_ADAM_50epoch.npy')\n",
        "list_valid_avg_loss_RASH64 = np.load('/content/drive/MyDrive/archivos-redes/trabajo-final/list_valid_avg_loss_RASH64_ADAM_50epoch.npy')\n",
        "\n",
        "list_train_loss_incorrecta_cada_ej_RASH64 = np.load('/content/drive/MyDrive/archivos-redes/trabajo-final/list_train_loss_incorrecta_cada_ej_RASH64_ADAM_50epoch.npy')\n",
        "list_train_loss_cada_ej_RASH64 = np.load('/content/drive/MyDrive/archivos-redes/trabajo-final/list_train_loss_cada_ej_RASH64_ADAM_50epoch.npy')\n",
        "list_valid_loss_cada_ej_RASH64 = np.load('/content/drive/MyDrive/archivos-redes/trabajo-final/list_valid_loss_cada_ej_RASH64_ADAM_50epoch.npy')\n",
        "\n",
        "\n",
        "##\n",
        "list_train_avg_loss_incorrecta_RASH128 = np.load('/content/drive/MyDrive/archivos-redes/trabajo-final/list_train_avg_loss_incorrecta_RASH128_ADAM_50epoch.npy')\n",
        "list_train_avg_loss_RASH128 = np.load('/content/drive/MyDrive/archivos-redes/trabajo-final/list_train_avg_loss_RASH128_ADAM_50epoch.npy')\n",
        "list_valid_avg_loss_RASH128 = np.load('/content/drive/MyDrive/archivos-redes/trabajo-final/list_valid_avg_loss_RASH128_ADAM_50epoch.npy')\n",
        "\n",
        "list_train_loss_incorrecta_cada_ej_RASH128 = np.load('/content/drive/MyDrive/archivos-redes/trabajo-final/list_train_loss_incorrecta_cada_ej_RASH128_ADAM_50epoch.npy')\n",
        "list_train_loss_cada_ej_RASH128 = np.load('/content/drive/MyDrive/archivos-redes/trabajo-final/list_train_loss_cada_ej_RASH128_ADAM_50epoch.npy')\n",
        "list_valid_loss_cada_ej_RASH128 = np.load('/content/drive/MyDrive/archivos-redes/trabajo-final/list_valid_loss_cada_ej_RASH128_ADAM_50epoch.npy')\n",
        "\n",
        "\n",
        "##\n",
        "list_train_avg_loss_incorrecta_RASH16 = np.load('/content/drive/MyDrive/archivos-redes/trabajo-final/list_train_avg_loss_incorrecta_RASH16_ADAM_50epoch.npy')\n",
        "list_train_avg_loss_RASH16 = np.load('/content/drive/MyDrive/archivos-redes/trabajo-final/list_train_avg_loss_RASH16_ADAM_50epoch.npy')\n",
        "list_valid_avg_loss_RASH16 = np.load('/content/drive/MyDrive/archivos-redes/trabajo-final/list_valid_avg_loss_RASH16_ADAM_50epoch.npy')\n",
        "\n",
        "list_train_loss_incorrecta_cada_ej_RASH16 = np.load('/content/drive/MyDrive/archivos-redes/trabajo-final/list_train_loss_incorrecta_cada_ej_RASH16_ADAM_50epoch.npy')\n",
        "list_train_loss_cada_ej_RASH16 = np.load('/content/drive/MyDrive/archivos-redes/trabajo-final/list_train_loss_cada_ej_RASH16_ADAM_50epoch.npy')\n",
        "list_valid_loss_cada_ej_RASH16 = np.load('/content/drive/MyDrive/archivos-redes/trabajo-final/list_valid_loss_cada_ej_RASH16_ADAM_50epoch.npy')"
      ],
      "metadata": {
        "id": "m9FwyC-WTtkK"
      },
      "execution_count": null,
      "outputs": []
    },
    {
      "cell_type": "code",
      "source": [
        "plt.xlabel('Épocas')\n",
        "plt.ylabel('Loss')\n",
        "#plt.xlim(-0.1,5.1)\n",
        "#plt.ylim(-0.1,1.1)\n",
        "\n",
        "\n",
        "\n",
        "#plt.plot(range(1,len(list_train_avg_loss_RASH64)+1),list_train_loss_cada_ej_RASH16,c='lightgreen')\n",
        "#plt.plot(range(1,len(list_valid_loss_cada_ej_RASH64)+1),list_valid_loss_cada_ej_RASH16,c='lightgreen')#,lw=0.5)\n",
        "\n",
        "#plt.plot(range(1,len(list_train_avg_loss_RASH64)+1),list_train_loss_cada_ej_RASH64,c='lightblue')\n",
        "#plt.plot(range(1,len(list_valid_loss_cada_ej_RASH64)+1),list_valid_loss_cada_ej_RASH64,c='lightblue')#,lw=0.5)\n",
        "\n",
        "#plt.plot(range(1,len(list_train_avg_loss_RASH128)+1),list_train_loss_cada_ej_RASH128,c='lightpink')\n",
        "#plt.plot(range(1,len(list_valid_loss_cada_ej_RASH128)+1),list_valid_loss_cada_ej_RASH128,c='lightpink')#,lw=0.5)\n",
        "\n",
        "\n",
        "plt.plot(range(1,len(list_valid_avg_loss_RASH16)+1),list_valid_avg_loss_RASH16,label=\"validación, n=16\",linestyle='-',c='lawngreen')\n",
        "plt.plot(range(1,len(list_train_avg_loss_RASH16)+1),list_train_avg_loss_RASH16,label=\"entrenamiento, n=16\",linestyle='--',c='green')\n",
        "\n",
        "plt.plot(range(1,len(list_valid_avg_loss_RASH64)+1),list_valid_avg_loss_RASH64,label=\"validación, n=64\",linestyle='-',c='deepskyblue')\n",
        "plt.plot(range(1,len(list_train_avg_loss_RASH64)+1),list_train_avg_loss_RASH64,label=\"entrenamiento, n=64\",linestyle='--',c='darkblue')\n",
        "\n",
        "\n",
        "plt.plot(range(1,len(list_valid_avg_loss_RASH128)+1),list_valid_avg_loss_RASH128,label=\"validación, n=128\",linestyle='-',c='r')\n",
        "plt.plot(range(1,len(list_train_avg_loss_RASH128)+1),list_train_avg_loss_RASH128,label=\"entrenamiento, n=128\",linestyle='--',c='darkred')\n",
        "\n",
        "\n",
        "\n",
        "\n",
        "\n",
        "#plt.plot(range(1,len(list_valid_avg_loss_512)+1),list_valid_avg_loss_512,label=\"valid\",linestyle='-',c='blue')\n",
        "#plt.plot(range(1,len(list_train_avg_loss_512)+1),list_train_avg_loss_512,label=\"train\",linestyle='--',c='darkorange')\n",
        "\n",
        "#plt.xlim(0,100)\n",
        "\n",
        "\n",
        "plt.title('Autoencoder 2')\n",
        "\n",
        "\n",
        "#plt.savefig(\"/content/drive/MyDrive/archivos-redes/trabajo-final/Grafico_todos_los_RASHKA.png\", dpi =300)\n",
        "\n",
        "plt.legend()"
      ],
      "metadata": {
        "colab": {
          "base_uri": "https://localhost:8080/",
          "height": 492
        },
        "id": "A7wU5J9ATrqa",
        "outputId": "7f78c303-f36e-4b92-f308-6e51f8e88ca2"
      },
      "execution_count": null,
      "outputs": [
        {
          "output_type": "execute_result",
          "data": {
            "text/plain": [
              "<matplotlib.legend.Legend at 0x7cb2e31c1c30>"
            ]
          },
          "metadata": {},
          "execution_count": 13
        },
        {
          "output_type": "display_data",
          "data": {
            "text/plain": [
              "<Figure size 640x480 with 1 Axes>"
            ],
            "image/png": "[encoded data removed]"
          },
          "metadata": {}
        }
      ]
    },
    {
      "cell_type": "markdown",
      "source": [
        "# grafico todos los juan juntos"
      ],
      "metadata": {
        "id": "xCCGzFvBeSFU"
      }
    },
    {
      "cell_type": "code",
      "source": [
        "list_train_avg_loss_incorrecta_64 = np.load('/content/drive/MyDrive/archivos-redes/trabajo-final/list_train_avg_loss_incorrecta_64_ADAM_50epoch.npy')\n",
        "list_train_avg_loss_64 = np.load('/content/drive/MyDrive/archivos-redes/trabajo-final/list_train_avg_loss_64_ADAM_50epoch.npy')\n",
        "list_valid_avg_loss_64 = np.load('/content/drive/MyDrive/archivos-redes/trabajo-final/list_valid_avg_loss_64_ADAM_50epoch.npy')\n",
        "\n",
        "list_train_loss_incorrecta_cada_ej_64 = np.load('/content/drive/MyDrive/archivos-redes/trabajo-final/list_train_loss_incorrecta_cada_ej_64_ADAM_50epoch.npy')\n",
        "list_train_loss_cada_ej_64 = np.load('/content/drive/MyDrive/archivos-redes/trabajo-final/list_train_loss_cada_ej_64_ADAM_50epoch.npy')\n",
        "list_valid_loss_cada_ej_64 = np.load('/content/drive/MyDrive/archivos-redes/trabajo-final/list_valid_loss_cada_ej_64_ADAM_50epoch.npy')\n",
        "\n",
        "\n",
        "\n",
        "list_train_avg_loss_incorrecta_128 = np.load('/content/drive/MyDrive/archivos-redes/trabajo-final/list_train_avg_loss_incorrecta_128_ADAM_50epoch.npy')\n",
        "list_train_avg_loss_128= np.load('/content/drive/MyDrive/archivos-redes/trabajo-final/list_train_avg_loss_128_ADAM_50epoch.npy')\n",
        "list_valid_avg_loss_128 = np.load('/content/drive/MyDrive/archivos-redes/trabajo-final/list_valid_avg_loss_128_ADAM_50epoch.npy')\n",
        "\n",
        "list_train_loss_incorrecta_cada_ej_128 = np.load('/content/drive/MyDrive/archivos-redes/trabajo-final/list_train_loss_incorrecta_cada_ej_128_ADAM_50epoch.npy')\n",
        "list_train_loss_cada_ej_128 = np.load('/content/drive/MyDrive/archivos-redes/trabajo-final/list_train_loss_cada_ej_128_ADAM_50epoch.npy')\n",
        "list_valid_loss_cada_ej_128 = np.load('/content/drive/MyDrive/archivos-redes/trabajo-final/list_valid_loss_cada_ej_128_ADAM_50epoch.npy')\n",
        "\n",
        "\n",
        "\n",
        "list_train_avg_loss_incorrecta_16 = np.load('/content/drive/MyDrive/archivos-redes/trabajo-final/list_train_avg_loss_incorrecta_16_ADAM_50epoch.npy')\n",
        "list_train_avg_loss_16 = np.load('/content/drive/MyDrive/archivos-redes/trabajo-final/list_train_avg_loss_16_ADAM_50epoch.npy')\n",
        "list_valid_avg_loss_16 = np.load('/content/drive/MyDrive/archivos-redes/trabajo-final/list_valid_avg_loss_16_ADAM_50epoch.npy')\n",
        "\n",
        "list_train_loss_incorrecta_cada_ej_16 = np.load('/content/drive/MyDrive/archivos-redes/trabajo-final/list_train_loss_incorrecta_cada_ej_16_ADAM_50epoch.npy')\n",
        "list_train_loss_cada_ej_16 = np.load('/content/drive/MyDrive/archivos-redes/trabajo-final/list_train_loss_cada_ej_16_ADAM_50epoch.npy')\n",
        "list_valid_loss_cada_ej_16 = np.load('/content/drive/MyDrive/archivos-redes/trabajo-final/list_valid_loss_cada_ej_16_ADAM_50epoch.npy')"
      ],
      "metadata": {
        "id": "QTjb-O4ceRWe"
      },
      "execution_count": null,
      "outputs": []
    },
    {
      "cell_type": "code",
      "source": [
        "plt.xlabel('Épocas')\n",
        "plt.ylabel('Loss')\n",
        "#plt.xlim(-0.1,5.1)\n",
        "#plt.ylim(-0.1,1.1)\n",
        "\n",
        "\n",
        "#plt.plot(range(1,len(list_train_avg_loss)+1),list_train_loss_cada_ej,c='lightgreen')\n",
        "#plt.plot(range(1,len(list_valid_loss_cada_ej_512)+1),list_valid_loss_cada_ej_512,c='lightgreen')#,lw=0.5)\n",
        "\n",
        "\n",
        "plt.plot(range(1,len(list_valid_avg_loss_16)+1),list_valid_avg_loss_16,label=\"validación, n=16\",linestyle='-',c='lawngreen')\n",
        "plt.plot(range(1,len(list_train_avg_loss_16)+1),list_train_avg_loss_16,label=\"entrenamiento, n=16\",linestyle='--',c='green')\n",
        "\n",
        "plt.plot(range(1,len(list_valid_avg_loss_64)+1),list_valid_avg_loss_64,label=\"validación, n=64\",linestyle='-',c='deepskyblue')\n",
        "plt.plot(range(1,len(list_train_avg_loss_64)+1),list_train_avg_loss_64,label=\"entrenamiento, n=64\",linestyle='--',c='darkblue')\n",
        "\n",
        "\n",
        "plt.plot(range(1,len(list_valid_avg_loss_128)+1),list_valid_avg_loss_128,label=\"validación, n=128\",linestyle='-',c='r')\n",
        "plt.plot(range(1,len(list_train_avg_loss_128)+1),list_train_avg_loss_128,label=\"entrenamiento, n=128\",linestyle='--',c='darkred')\n",
        "\n",
        "\n",
        "\n",
        "\n",
        "\n",
        "#plt.plot(range(1,len(list_valid_avg_loss_512)+1),list_valid_avg_loss_512,label=\"valid\",linestyle='-',c='blue')\n",
        "#plt.plot(range(1,len(list_train_avg_loss_512)+1),list_train_avg_loss_512,label=\"train\",linestyle='--',c='darkorange')\n",
        "\n",
        "#plt.xlim(0,100)\n",
        "\n",
        "\n",
        "\n",
        "plt.title('Autoencoder 1')\n",
        "\n",
        "\n",
        "#plt.savefig(\"/content/drive/MyDrive/archivos-redes/trabajo-final/Grafico_todos_los_JUAN.png\", dpi =300)\n",
        "\n",
        "\n",
        "plt.legend()"
      ],
      "metadata": {
        "colab": {
          "base_uri": "https://localhost:8080/",
          "height": 492
        },
        "id": "D8I51i6feRap",
        "outputId": "cdfa410c-bd1f-4cf7-f391-dcb4552a3e9a"
      },
      "execution_count": null,
      "outputs": [
        {
          "output_type": "execute_result",
          "data": {
            "text/plain": [
              "<matplotlib.legend.Legend at 0x7cb2e310e500>"
            ]
          },
          "metadata": {},
          "execution_count": 15
        },
        {
          "output_type": "display_data",
          "data": {
            "text/plain": [
              "<Figure size 640x480 with 1 Axes>"
            ],
            "image/png": "[encoded data removed]"
          },
          "metadata": {}
        }
      ]
    },
    {
      "cell_type": "markdown",
      "source": [
        "# grafico todo todo junto"
      ],
      "metadata": {
        "id": "zfG9f3bsIg84"
      }
    },
    {
      "cell_type": "code",
      "source": [
        "list_train_avg_loss_incorrecta_SINL= np.load('/content/drive/MyDrive/archivos-redes/trabajo-final/list_train_avg_loss_incorrecta_SINL_ADAM_50epoch.npy')\n",
        "list_train_avg_loss_SINL = np.load('/content/drive/MyDrive/archivos-redes/trabajo-final/list_train_avg_loss_SINL_ADAM_50epoch.npy')\n",
        "list_valid_avg_loss_SINL = np.load('/content/drive/MyDrive/archivos-redes/trabajo-final/list_valid_avg_loss_SINL_ADAM_50epoch.npy')\n",
        "\n",
        "list_train_loss_incorrecta_cada_ej_SINL = np.load('/content/drive/MyDrive/archivos-redes/trabajo-final/list_train_loss_incorrecta_cada_ej_SINL_ADAM_50epoch.npy')\n",
        "list_train_loss_cada_ej_SINL = np.load('/content/drive/MyDrive/archivos-redes/trabajo-final/list_train_loss_cada_ej_SINL_ADAM_50epoch.npy')\n",
        "list_valid_loss_cada_ej_SINL = np.load('/content/drive/MyDrive/archivos-redes/trabajo-final/list_valid_loss_cada_ej_SINL_ADAM_50epoch.npy')"
      ],
      "metadata": {
        "id": "9KhgqCZCJUFI"
      },
      "execution_count": null,
      "outputs": []
    },
    {
      "cell_type": "code",
      "source": [
        "#512\n",
        "list_train_avg_loss_incorrecta_512 = np.load('/content/drive/MyDrive/archivos-redes/trabajo-3/list_train_avg_loss_incorrecta_512_ADAM_50epoch.npy')\n",
        "list_train_avg_loss_512 = np.load('/content/drive/MyDrive/archivos-redes/trabajo-3/list_train_avg_loss_512_ADAM_50epoch.npy')\n",
        "list_valid_avg_loss_512 = np.load('/content/drive/MyDrive/archivos-redes/trabajo-3/list_valid_avg_loss_512_ADAM_50epoch.npy')\n",
        "\n",
        "list_train_loss_incorrecta_cada_ej_512 = np.load('/content/drive/MyDrive/archivos-redes/trabajo-3/list_train_loss_incorrecta_cada_ej_512_ADAM_50epoch.npy')\n",
        "list_train_loss_cada_ej_512 = np.load('/content/drive/MyDrive/archivos-redes/trabajo-3/list_train_loss_cada_ej_512_ADAM_50epoch.npy')\n",
        "list_valid_loss_cada_ej_512 = np.load('/content/drive/MyDrive/archivos-redes/trabajo-3/list_valid_loss_cada_ej_512_ADAM_50epoch.npy')"
      ],
      "metadata": {
        "id": "I8fY2iLTKFES"
      },
      "execution_count": null,
      "outputs": []
    },
    {
      "cell_type": "code",
      "source": [
        "plt.xlabel('Épocas')\n",
        "plt.ylabel('Loss')\n",
        "#plt.xlim(-0.1,5.1)\n",
        "#plt.ylim(-0.1,1.1)\n",
        "\n",
        "\n",
        "#plt.plot(range(1,len(list_train_avg_loss)+1),list_train_loss_cada_ej,c='lightgreen')\n",
        "#plt.plot(range(1,len(list_valid_loss_cada_ej_512)+1),list_valid_loss_cada_ej_512,c='lightgreen')#,lw=0.5)\n",
        "\n",
        "\n",
        "\n",
        "\n",
        "\n",
        "plt.plot(range(1,len(list_valid_avg_loss_512)+1),list_valid_avg_loss_512,label=\"validación, pr3 n=512\",linestyle='-',c='magenta')\n",
        "plt.plot(range(1,len(list_train_avg_loss_512)+1),list_train_avg_loss_512,label=\"entrenamiento, pr3 n=512\",linestyle='--',c='m')\n",
        "\n",
        "\n",
        "plt.plot(range(1,len(list_valid_avg_loss_SINL)+1),list_valid_avg_loss_SINL,label=\"validación, sin lineal\",linestyle='-',c='orange')\n",
        "plt.plot(range(1,len(list_train_avg_loss_SINL)+1),list_train_avg_loss_SINL,label=\"entrenamiento, sin lineal\",linestyle='--',c='black')\n",
        "\n",
        "\n",
        "\n",
        "\n",
        "plt.plot(range(1,len(list_valid_avg_loss_RASH16)+1),list_valid_avg_loss_RASH16,linestyle='-',c='lawngreen')\n",
        "plt.plot(range(1,len(list_train_avg_loss_RASH16)+1),list_train_avg_loss_RASH16,linestyle='--',c='green')\n",
        "\n",
        "plt.plot(range(1,len(list_valid_avg_loss_RASH64)+1),list_valid_avg_loss_RASH64,linestyle='-',c='deepskyblue')\n",
        "plt.plot(range(1,len(list_train_avg_loss_RASH64)+1),list_train_avg_loss_RASH64,linestyle='--',c='darkblue')\n",
        "\n",
        "\n",
        "plt.plot(range(1,len(list_valid_avg_loss_RASH128)+1),list_valid_avg_loss_RASH128,linestyle='-',c='r')\n",
        "plt.plot(range(1,len(list_train_avg_loss_RASH128)+1),list_train_avg_loss_RASH128,linestyle='--',c='darkred')\n",
        "\n",
        "\n",
        "\n",
        "\n",
        "\n",
        "\n",
        "\n",
        "\n",
        "plt.plot(range(1,len(list_valid_avg_loss_16)+1),list_valid_avg_loss_16,linestyle='-',c='lawngreen')\n",
        "plt.plot(range(1,len(list_train_avg_loss_16)+1),list_train_avg_loss_16,linestyle='--',c='green')\n",
        "\n",
        "plt.plot(range(1,len(list_valid_avg_loss_64)+1),list_valid_avg_loss_64,linestyle='-',c='deepskyblue')\n",
        "plt.plot(range(1,len(list_train_avg_loss_64)+1),list_train_avg_loss_64,linestyle='--',c='darkblue')\n",
        "\n",
        "\n",
        "plt.plot(range(1,len(list_valid_avg_loss_128)+1),list_valid_avg_loss_128,linestyle='-',c='r')\n",
        "plt.plot(range(1,len(list_train_avg_loss_128)+1),list_train_avg_loss_128,linestyle='--',c='darkred')\n",
        "\n",
        "\n",
        "\n",
        "\n",
        "\n",
        "#plt.plot(range(1,len(list_valid_avg_loss_512)+1),list_valid_avg_loss_512,label=\"valid\",linestyle='-',c='blue')\n",
        "#plt.plot(range(1,len(list_train_avg_loss_512)+1),list_train_avg_loss_512,label=\"train\",linestyle='--',c='darkorange')\n",
        "\n",
        "#plt.xlim(0,100)\n",
        "\n",
        "\n",
        "\n",
        "plt.title('')\n",
        "\n",
        "\n",
        "#plt.savefig(\"/content/drive/MyDrive/archivos-redes/trabajo-final/Grafico_TODOS.png\", dpi =300)\n",
        "\n",
        "\n",
        "plt.legend()\n",
        "\n",
        "#plt.savefig(\"/content/drive/MyDrive/archivos-redes/trabajo-final/Grafico_TODOS.png\", dpi =300)\n",
        "\n",
        "\n",
        "plt.show()"
      ],
      "metadata": {
        "colab": {
          "base_uri": "https://localhost:8080/",
          "height": 451
        },
        "id": "jxfzaDqEIiWJ",
        "outputId": "fa66f833-9596-4459-b22b-529f8d8d13c5"
      },
      "execution_count": null,
      "outputs": [
        {
          "output_type": "display_data",
          "data": {
            "text/plain": [
              "<Figure size 640x480 with 1 Axes>"
            ],
            "image/png": "[encoded data removed]"
          },
          "metadata": {}
        }
      ]
    }
  ]
}